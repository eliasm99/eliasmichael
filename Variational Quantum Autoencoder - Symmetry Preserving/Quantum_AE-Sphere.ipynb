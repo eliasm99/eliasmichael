{
 "cells": [
  {
   "cell_type": "markdown",
   "id": "26e5003f-bf09-431f-90c4-655e72155fc3",
   "metadata": {},
   "source": [
    "# Quantum AE Notebook - Elias Michael"
   ]
  },
  {
   "cell_type": "markdown",
   "id": "cc7b8fe4-4e28-42d9-a8a3-8a5443a151ed",
   "metadata": {},
   "source": [
    "## Variational Quantum AutoEncoder "
   ]
  },
  {
   "cell_type": "markdown",
   "id": "307d7e10-5b79-4ca8-a765-29a2d95570ef",
   "metadata": {},
   "source": [
    "### Import Libraries"
   ]
  },
  {
   "cell_type": "code",
   "execution_count": 1,
   "id": "7f2e5726-fd10-498c-aece-e40aac688b3b",
   "metadata": {},
   "outputs": [],
   "source": [
    "import pennylane as qml\n",
    "import jax\n",
    "import jax.numpy as jnp\n",
    "import numpy as np\n",
    "import optax\n",
    "from jax import jit, value_and_grad, vmap\n",
    "import matplotlib.pyplot as plt"
   ]
  },
  {
   "cell_type": "code",
   "execution_count": 2,
   "id": "f7c2ba8e-73ca-47c3-bf4f-b5330a5b39ba",
   "metadata": {},
   "outputs": [],
   "source": [
    "# JAX command for further accuracy\n",
    "jax.config.update(\"jax_enable_x64\", True)"
   ]
  },
  {
   "cell_type": "markdown",
   "id": "11530a34-4a66-4fbe-a090-9c915d28cd12",
   "metadata": {},
   "source": [
    "### Defining the Qubit Setup"
   ]
  },
  {
   "cell_type": "code",
   "execution_count": 3,
   "id": "53a13e9e-a528-46be-a645-a643f57c6811",
   "metadata": {},
   "outputs": [],
   "source": [
    "n_qubits = 5\n",
    "latent_wire = 0 # First input of the encoder / Holds all the compressed info after training (encoder)\n",
    "latent_wire_ii = 1 # Second input of the encoder / Holds all the compressed info after training (encoder)\n",
    "trash_wire = 2 # Third input of the encoder / Discarded (Traced out) after training\n",
    "reference_wire = 3 # Used to compare with trash qubit after encoder, then used as a fresh qubit for the decoder input\n",
    "ancilla_wire = 4 # For measuring the similarity in SWAP test\n",
    "dev = qml.device(\"default.qubit.jax\", wires=n_qubits)"
   ]
  },
  {
   "cell_type": "markdown",
   "id": "01a94386-e15a-411c-ab55-95ea3ca0c982",
   "metadata": {},
   "source": [
    "### Data Generation"
   ]
  },
  {
   "cell_type": "code",
   "execution_count": 4,
   "id": "396528c5-a1ff-40ce-8b36-2b84b8a70381",
   "metadata": {},
   "outputs": [],
   "source": [
    "# Centering the circle in the reversible domain (0, pi)\n",
    "ds = (jnp.pi - 2)/2"
   ]
  },
  {
   "cell_type": "code",
   "execution_count": 5,
   "id": "3a3c6b6e-ae5e-4342-bd12-ba3617a7d8fa",
   "metadata": {},
   "outputs": [],
   "source": [
    "def generate_sphere(n_samples=3000, seed=0):\n",
    "    rng = np.random.default_rng(seed)\n",
    "    phi = rng.uniform(0, 2 * np.pi, n_samples)\n",
    "    costheta = rng.uniform(-1, 1, n_samples)\n",
    "    theta = np.arccos(costheta)\n",
    "    #phi = rng.uniform(0, 1/2 * np.pi, n_samples)\n",
    "    #theta = rng.uniform(0, 0.5 * np.pi, n_samples)\n",
    "\n",
    "    x = np.sin(theta) * np.cos(phi)\n",
    "    y = np.sin(theta) * np.sin(phi)\n",
    "    z = np.cos(theta)\n",
    "\n",
    "    # Shift the coordinates to [0, 2] range\n",
    "    shifted_coords = np.stack([x+1+ds, y+1+ds, z+1+ds], axis=1).astype(np.float32)\n",
    "    return shifted_coords"
   ]
  },
  {
   "cell_type": "markdown",
   "id": "a7e25408-8a2c-4467-8616-8fcad6ffa68e",
   "metadata": {},
   "source": [
    "### Encoder Layer (Angle embedding & Re-Uploading & Alternate Embedding)"
   ]
  },
  {
   "cell_type": "code",
   "execution_count": 6,
   "id": "eab019a0-64bc-494d-91bb-f44027be356f",
   "metadata": {},
   "outputs": [],
   "source": [
    "def expressive_block_circuit5(x, weights, wires, \n",
    "                               reupload=True, \n",
    "                               alternate_embedding=True):\n",
    "    n_layers = weights.shape[0]  # e.g., 2 or 3\n",
    "    n_wires = len(wires)\n",
    "    index = sorted(list(range(len(x))) * (n_wires // len(x) + 1))\n",
    "\n",
    "    def embed_inputs(layer):\n",
    "        for idx, wire in enumerate(wires):\n",
    "            if not alternate_embedding:\n",
    "                gate = qml.RY\n",
    "            else:\n",
    "                # Alternate embedding gates per layer\n",
    "                if layer % 2 == 0:\n",
    "                    gate = [qml.RY, qml.RX, qml.RY][idx % 3]\n",
    "                else:\n",
    "                    gate = [qml.RX, qml.RY, qml.RX][idx % 3]\n",
    "            gate(x[index[idx]], wires=wire)\n",
    "\n",
    "    for l in range(n_layers):\n",
    "        if l == 0 or reupload:\n",
    "            embed_inputs(l)\n",
    "\n",
    "        # --- Initial RX + RZ rotations (as in Circuit 5) ---\n",
    "        for i, wire in enumerate(wires):\n",
    "            qml.RX(weights[l, i, 0], wires=wire)\n",
    "            qml.RZ(weights[l, i, 1], wires=wire)\n",
    "\n",
    "        # --- Staircase entanglement with interleaved RZ gates ---\n",
    "        for i in range(n_wires - 1):\n",
    "            # Optional mid-layer RZs (imitating interleaved ones in Circuit 5)\n",
    "            qml.RZ(weights[l, i, 2], wires=wires[i])\n",
    "            qml.CNOT(wires=[wires[i], wires[i + 1]])\n",
    "\n",
    "        # Add final RZ gates on remaining qubits to match diagram\n",
    "        qml.RZ(weights[l, n_wires - 1, 2], wires=wires[n_wires - 1])\n",
    "\n",
    "        # --- Final RX + RZ again (as in last part of Circuit 5) ---\n",
    "        for i, wire in enumerate(wires):\n",
    "            qml.RX(weights[l, i, 3], wires=wire)\n",
    "            qml.RZ(weights[l, i, 4], wires=wire)\n"
   ]
  },
  {
   "cell_type": "code",
   "execution_count": 6,
   "id": "f5597361-3c92-4713-9707-46d6fdfb612e",
   "metadata": {},
   "outputs": [],
   "source": [
    "def expressive_block(x, weights, wires, \n",
    "                     rot=[qml.RY, qml.RZ, qml.RX], \n",
    "                     reupload=True, \n",
    "                     alternate_embedding=True):\n",
    "    n_layers = weights.shape[0]\n",
    "    n_wires = len(wires)\n",
    "    index = sorted(list(range(len(x))) * (n_wires // len(x) + 1))\n",
    "\n",
    "    def embed_inputs(layer):\n",
    "        for idx, wire in enumerate(wires):\n",
    "            if not alternate_embedding:\n",
    "                gate = qml.RY\n",
    "            else:\n",
    "                # Layer-dependent alternating embedding\n",
    "                if layer % 2 == 0:\n",
    "                    gate = [qml.RY, qml.RX, qml.RY][idx % 3]\n",
    "                else:\n",
    "                    gate = [qml.RX, qml.RY, qml.RX][idx % 3]\n",
    "            gate(x[index[idx]], wires=wire)\n",
    "\n",
    "    for l in range(n_layers):\n",
    "        if l == 0 or reupload:\n",
    "            embed_inputs(l)\n",
    "\n",
    "        for i, wire in enumerate(wires):\n",
    "            for j, gate in enumerate(rot):\n",
    "                gate(weights[l, i, j], wires=wire)\n",
    "\n",
    "        for i in range(n_wires):\n",
    "            qml.CNOT(wires=[wires[i], wires[(i + 1) % n_wires]])\n"
   ]
  },
  {
   "cell_type": "markdown",
   "id": "6da39b85-8ad7-4da8-8226-b5d5b3968f0d",
   "metadata": {},
   "source": [
    "### Decoding Layer (Inverse Operators - Mirroring Encoder)"
   ]
  },
  {
   "cell_type": "code",
   "execution_count": 7,
   "id": "02fc8645-95ff-457e-9648-b551e299beda",
   "metadata": {},
   "outputs": [],
   "source": [
    "def adjoint_expressive_block_circuit5(x, weights, wires, \n",
    "                                      reupload=True, \n",
    "                                      alternate_embedding=True):\n",
    "    n_layers = weights.shape[0]\n",
    "    n_wires = len(wires)\n",
    "    index = sorted(list(range(len(x))) * (n_wires // len(x) + 1))\n",
    "\n",
    "    def embed_inputs(layer):\n",
    "        for idx, wire in enumerate(wires):\n",
    "            if not alternate_embedding:\n",
    "                gate = qml.RY\n",
    "            else:\n",
    "                # Same alternating logic as forward pass\n",
    "                if layer % 2 == 0:\n",
    "                    gate = [qml.RY, qml.RX, qml.RY][idx % 3]\n",
    "                else:\n",
    "                    gate = [qml.RX, qml.RY, qml.RX][idx % 3]\n",
    "            # Inverse embedding (negate angle)\n",
    "            gate(-x[index[idx]], wires=wire)\n",
    "\n",
    "    # Iterate over layers in reverse\n",
    "    for l in reversed(range(n_layers)):\n",
    "\n",
    "        # Final RX + RZ (undo first)\n",
    "        for i, wire in enumerate(wires):\n",
    "            qml.RZ(-weights[l, i, 4], wires=wire)\n",
    "            qml.RX(-weights[l, i, 3], wires=wire)\n",
    "\n",
    "        # Undo interleaved RZ and CNOTs (reversed order)\n",
    "        qml.RZ(-weights[l, n_wires - 1, 2], wires=wires[n_wires - 1])\n",
    "\n",
    "        for i in reversed(range(n_wires - 1)):\n",
    "            qml.CNOT(wires=[wires[i], wires[i + 1]])  # CNOT is self-inverse\n",
    "            qml.RZ(-weights[l, i, 2], wires=wires[i])\n",
    "\n",
    "        # Undo initial RX + RZ\n",
    "        for i, wire in enumerate(wires):\n",
    "            qml.RZ(-weights[l, i, 1], wires=wire)\n",
    "            qml.RX(-weights[l, i, 0], wires=wire)\n",
    "\n",
    "        # Optionally undo input embedding\n",
    "        if l == 0 or reupload:\n",
    "            embed_inputs(l)\n"
   ]
  },
  {
   "cell_type": "code",
   "execution_count": 7,
   "id": "dfd3ef05-9834-4023-a2fb-4eb2b8b509eb",
   "metadata": {},
   "outputs": [],
   "source": [
    "def expressive_block_adjoint(x, weights, wires, \n",
    "                             rot=[qml.RY, qml.RZ, qml.RX], \n",
    "                             reupload=True, \n",
    "                             alternate_embedding=True):\n",
    "    \"\"\"\n",
    "    Adjoint of expressive block with fixed ZXZ (or YZY, etc.) composition and\n",
    "    alternating RY/RX data reuploading (layer-dependent).\n",
    "    \"\"\"\n",
    "    n_layers = weights.shape[0]\n",
    "    n_wires = len(wires)\n",
    "    index = sorted(list(range(len(x))) * (n_wires // len(x) + 1))\n",
    "\n",
    "    def embed_inputs_adjoint(layer):\n",
    "        for idx, wire in reversed(list(enumerate(wires))):\n",
    "            if not alternate_embedding:\n",
    "                gate = qml.RY\n",
    "            else:\n",
    "                # Reverse layer-dependent reembedding sequence\n",
    "                if layer % 2 == 0:\n",
    "                    gate = [qml.RY, qml.RX, qml.RY][idx % 3]\n",
    "                else:\n",
    "                    gate = [qml.RX, qml.RY, qml.RX][idx % 3]\n",
    "            qml.adjoint(gate)(x[index[idx]], wires=wire)\n",
    "\n",
    "    for l in reversed(range(n_layers)):\n",
    "        # Reverse entanglement\n",
    "        for i in reversed(range(n_wires)):\n",
    "            qml.adjoint(qml.CNOT)(wires=[wires[i], wires[(i + 1) % n_wires]])\n",
    "\n",
    "        # Reverse parameterized gates\n",
    "        for i in reversed(range(n_wires)):\n",
    "            for j in reversed(range(len(rot))):\n",
    "                qml.adjoint(rot[j])(weights[l, i, j], wires=wires[i])\n",
    "\n",
    "        # Reverse reuploading\n",
    "        if l == 0 or reupload:\n",
    "            embed_inputs_adjoint(l)\n"
   ]
  },
  {
   "cell_type": "markdown",
   "id": "03fb6209-c490-4d17-b1b3-804cb13bacb4",
   "metadata": {},
   "source": [
    "### SWAP Test (Loss Function Measurement)"
   ]
  },
  {
   "cell_type": "markdown",
   "id": "8b54ca4e-04ba-475d-bd30-099eb29b519d",
   "metadata": {},
   "source": [
    "In the SWAP Test we train only for the encoder parameters, since for the decoder we will just apply the inverse of all the encoder layers"
   ]
  },
  {
   "cell_type": "code",
   "execution_count": 8,
   "id": "815fed8c-0ea9-4e25-a23d-df789ea7e800",
   "metadata": {},
   "outputs": [],
   "source": [
    "@qml.qnode(dev, interface=\"jax\")\n",
    "def swap_test_circuit(params, x):\n",
    "    # Prepare reference state\n",
    "    qml.RX(x[0], wires=latent_wire)\n",
    "    qml.RX(x[1], wires=latent_wire_ii)\n",
    "    qml.RX(x[2], wires=trash_wire)\n",
    "\n",
    "\n",
    "    # Encode data\n",
    "    expressive_block_circuit5(\n",
    "        x=x,\n",
    "        weights=params,\n",
    "        wires=[latent_wire, latent_wire_ii, trash_wire],\n",
    "        reupload=True,\n",
    "        alternate_embedding=True\n",
    "    )\n",
    "\n",
    "    # SWAP test\n",
    "    qml.Hadamard(wires=ancilla_wire)\n",
    "    qml.CSWAP(wires=[ancilla_wire, trash_wire, reference_wire])\n",
    "    qml.Hadamard(wires=ancilla_wire)\n",
    "\n",
    "    return qml.expval(qml.PauliZ(ancilla_wire))"
   ]
  },
  {
   "cell_type": "code",
   "execution_count": 9,
   "id": "d825efe1-7293-43a7-9df3-94b7a293b878",
   "metadata": {},
   "outputs": [],
   "source": [
    "@qml.qnode(dev, interface=\"jax\")\n",
    "def swap_test_circuit(params, x):\n",
    "    # Prepare reference state\n",
    "    qml.RX(x[0], wires=latent_wire)\n",
    "    qml.RX(x[1], wires=latent_wire_ii)\n",
    "    qml.RX(x[2], wires=trash_wire)\n",
    "\n",
    "\n",
    "    # Encode data\n",
    "    expressive_block(\n",
    "        x=x,\n",
    "        weights=params,\n",
    "        wires=[latent_wire, latent_wire_ii, trash_wire],\n",
    "        rot=[qml.RY, qml.RZ, qml.RX],\n",
    "        reupload=True,\n",
    "        alternate_embedding=True\n",
    "    )\n",
    "\n",
    "    # SWAP test\n",
    "    qml.Hadamard(wires=ancilla_wire)\n",
    "    qml.CSWAP(wires=[ancilla_wire, trash_wire, reference_wire])\n",
    "    qml.Hadamard(wires=ancilla_wire)\n",
    "\n",
    "    return qml.expval(qml.PauliZ(ancilla_wire))"
   ]
  },
  {
   "cell_type": "markdown",
   "id": "b0b2edc0-c406-453f-8c2f-fcb03e6493ce",
   "metadata": {},
   "source": [
    "#### Batched Loss Function"
   ]
  },
  {
   "cell_type": "code",
   "execution_count": 9,
   "id": "d1ce899d-8df2-45ed-b670-632219def92b",
   "metadata": {},
   "outputs": [],
   "source": [
    "def swap_test_loss(params, batch):\n",
    "    def single_sample_loss(x):\n",
    "        ancilla_z = swap_test_circuit(params, x)\n",
    "        return 1.0 - ancilla_z  \n",
    "    batched_loss = vmap(single_sample_loss)(batch)\n",
    "    return jnp.mean(batched_loss)"
   ]
  },
  {
   "cell_type": "code",
   "execution_count": 10,
   "id": "8834a3fd-cfa4-44d5-9823-ff39c6e0011b",
   "metadata": {},
   "outputs": [],
   "source": [
    "# JAX Speed Optimizer\n",
    "loss_fn = jit(swap_test_loss)"
   ]
  },
  {
   "cell_type": "markdown",
   "id": "6af555e4-7270-46b4-9a0d-af57f3f89aae",
   "metadata": {},
   "source": [
    "### Parameters Initialization"
   ]
  },
  {
   "cell_type": "code",
   "execution_count": 11,
   "id": "14ec7947-68b8-4fd1-b587-297628f0fb9e",
   "metadata": {},
   "outputs": [],
   "source": [
    "def init_encoder_params(n_layers=20, n_wires=3, n_rot=3, seed=0):\n",
    "    key = jax.random.PRNGKey(seed)\n",
    "    return jax.random.uniform(\n",
    "        key, shape=(n_layers, n_wires, n_rot), minval=-1, maxval=1\n",
    "    )"
   ]
  },
  {
   "cell_type": "code",
   "execution_count": 12,
   "id": "f7e866ff-41c9-4f23-a109-9a9220cd14dd",
   "metadata": {},
   "outputs": [],
   "source": [
    "# Initialize weights\n",
    "n_layers, n_wires, n_rot = 10, 3, 5\n",
    "params = init_encoder_params(n_layers, n_wires, n_rot)"
   ]
  },
  {
   "cell_type": "markdown",
   "id": "ac8a93fa-8587-449c-92c3-f0b3b2da1a5c",
   "metadata": {},
   "source": [
    "### Training Data"
   ]
  },
  {
   "cell_type": "code",
   "execution_count": 13,
   "id": "76281d72-598a-45ff-bc9e-9c0373c67106",
   "metadata": {},
   "outputs": [],
   "source": [
    "# Generating the dataset\n",
    "data = generate_sphere(n_samples=3000, seed=42)\n",
    "\n",
    "# --- Shuffle uniformly\n",
    "rng = np.random.default_rng(42)\n",
    "indices = np.arange(len(data))\n",
    "rng.shuffle(indices)\n",
    "\n",
    "# --- Select stratified validation set (even angle spacing)\n",
    "val_size = int(0.2 * len(data))\n",
    "val_indices = np.linspace(0, len(data) - 1, num=val_size, dtype=int)\n",
    "val_indices = indices[val_indices]\n",
    "\n",
    "# --- Remaining indices for training\n",
    "train_indices = np.setdiff1d(indices, val_indices)\n",
    "\n",
    "# --- Final splits\n",
    "train_data = data[train_indices]\n",
    "val_data = data[val_indices]"
   ]
  },
  {
   "cell_type": "markdown",
   "id": "d0c5d92c-ea9c-4abd-b341-d823384c67cd",
   "metadata": {},
   "source": [
    "### Learning Rate & Optimizer Scheduler Setup"
   ]
  },
  {
   "cell_type": "code",
   "execution_count": 14,
   "id": "5e5e95e6-0dd3-425e-ba57-8b51a686e329",
   "metadata": {},
   "outputs": [],
   "source": [
    "# Learning rate scheduler setup\n",
    "initial_lr = 0.1\n",
    "decay_rate = 0.8\n",
    "decay_steps = 1000  # decay every 1000 steps\n",
    "\n",
    "schedule = optax.exponential_decay(\n",
    "    init_value=initial_lr,\n",
    "    transition_steps=decay_steps,\n",
    "    decay_rate=decay_rate,\n",
    "    staircase=True\n",
    ")"
   ]
  },
  {
   "cell_type": "code",
   "execution_count": 15,
   "id": "f57a049a-dac8-41ae-b75a-75cce78a84f1",
   "metadata": {},
   "outputs": [],
   "source": [
    "# Optimizer with schedule\n",
    "optimizer = optax.adam(learning_rate=schedule)\n",
    "opt_state = optimizer.init(params)"
   ]
  },
  {
   "cell_type": "markdown",
   "id": "5addb605-c472-400c-b41d-9f95de35aa68",
   "metadata": {},
   "source": [
    "### Training Loop"
   ]
  },
  {
   "cell_type": "code",
   "execution_count": 16,
   "id": "b7e2853f-1a0f-4540-bd07-8cc06c1abe33",
   "metadata": {},
   "outputs": [],
   "source": [
    "# Training Parameters\n",
    "batch_size = 64\n",
    "epochs = 30000"
   ]
  },
  {
   "cell_type": "code",
   "execution_count": 17,
   "id": "4bedbe0d-2115-4120-b8ee-911f00abc24c",
   "metadata": {},
   "outputs": [],
   "source": [
    "# JAX Speed Optimizer\n",
    "loss_grad_fn = jit(value_and_grad(swap_test_loss))\n",
    "\n",
    "# Logging Arrays\n",
    "loss_history = []\n",
    "val_loss_history = []\n",
    "grad_norm_history = []\n",
    "lr_history = []"
   ]
  },
  {
   "cell_type": "code",
   "execution_count": 18,
   "id": "a574f32d-a092-4cb4-b262-945401adb863",
   "metadata": {},
   "outputs": [],
   "source": [
    "# Early stopping setup \n",
    "best_val_loss = float(\"inf\")\n",
    "patience = 50\n",
    "epochs_without_improvement = 0"
   ]
  },
  {
   "cell_type": "code",
   "execution_count": 19,
   "id": "e1eb7d2e-0cd7-4a72-a09a-094f0d01dbd4",
   "metadata": {},
   "outputs": [
    {
     "name": "stdout",
     "output_type": "stream",
     "text": [
      "Epoch     0 | Train Loss: 0.59148778 | Val Loss: 0.30088447 | Grad Norm: 5.7353e-01 | LR: 0.100000\n",
      "Epoch   100 | Train Loss: 0.00929885 | Val Loss: 0.00852926 | Grad Norm: 1.0341e-01 | LR: 0.100000\n",
      "Epoch   200 | Train Loss: 0.00415980 | Val Loss: 0.00692906 | Grad Norm: 4.6430e-02 | LR: 0.100000\n",
      "Epoch   300 | Train Loss: 0.00487630 | Val Loss: 0.00566129 | Grad Norm: 1.0746e-01 | LR: 0.100000\n",
      "Epoch   400 | Train Loss: 0.00285842 | Val Loss: 0.00302103 | Grad Norm: 7.0279e-02 | LR: 0.100000\n",
      "Epoch   500 | Train Loss: 0.00533333 | Val Loss: 0.00552043 | Grad Norm: 1.8032e-01 | LR: 0.100000\n",
      "Epoch   600 | Train Loss: 0.00217923 | Val Loss: 0.00381783 | Grad Norm: 5.3128e-02 | LR: 0.100000\n",
      "Epoch   700 | Train Loss: 0.00367214 | Val Loss: 0.00340588 | Grad Norm: 1.1286e-01 | LR: 0.100000\n",
      "Epoch   800 | Train Loss: 0.01255011 | Val Loss: 0.01108659 | Grad Norm: 2.8054e-01 | LR: 0.100000\n",
      "Epoch   900 | Train Loss: 0.00167564 | Val Loss: 0.00313030 | Grad Norm: 6.1095e-02 | LR: 0.100000\n",
      "Epoch  1000 | Train Loss: 0.00275129 | Val Loss: 0.00179647 | Grad Norm: 1.1177e-01 | LR: 0.080000\n",
      "Epoch  1100 | Train Loss: 0.00116587 | Val Loss: 0.00146609 | Grad Norm: 3.3109e-02 | LR: 0.080000\n",
      "Epoch  1200 | Train Loss: 0.00164885 | Val Loss: 0.00134898 | Grad Norm: 6.2469e-02 | LR: 0.080000\n",
      "Epoch  1300 | Train Loss: 0.00158962 | Val Loss: 0.00188380 | Grad Norm: 5.4184e-02 | LR: 0.080000\n",
      "Epoch  1400 | Train Loss: 0.00142224 | Val Loss: 0.00238242 | Grad Norm: 4.5432e-02 | LR: 0.080000\n",
      "Epoch  1500 | Train Loss: 0.00148342 | Val Loss: 0.00208918 | Grad Norm: 7.0805e-02 | LR: 0.080000\n",
      "Epoch  1600 | Train Loss: 0.00367051 | Val Loss: 0.00218132 | Grad Norm: 1.4380e-01 | LR: 0.080000\n",
      "Epoch  1700 | Train Loss: 0.00216314 | Val Loss: 0.00131424 | Grad Norm: 8.1563e-02 | LR: 0.080000\n",
      "Epoch  1800 | Train Loss: 0.00221043 | Val Loss: 0.00173878 | Grad Norm: 1.0381e-01 | LR: 0.080000\n",
      "Epoch  1900 | Train Loss: 0.00122402 | Val Loss: 0.00158867 | Grad Norm: 5.0199e-02 | LR: 0.080000\n",
      "Epoch  2000 | Train Loss: 0.00234116 | Val Loss: 0.00171498 | Grad Norm: 1.1253e-01 | LR: 0.064000\n",
      "Epoch  2100 | Train Loss: 0.00118406 | Val Loss: 0.00101439 | Grad Norm: 5.3505e-02 | LR: 0.064000\n",
      "Epoch  2200 | Train Loss: 0.00466781 | Val Loss: 0.00226548 | Grad Norm: 1.7872e-01 | LR: 0.064000\n",
      "Epoch  2300 | Train Loss: 0.00142156 | Val Loss: 0.00136008 | Grad Norm: 6.5863e-02 | LR: 0.064000\n",
      "Epoch  2400 | Train Loss: 0.00156897 | Val Loss: 0.00132776 | Grad Norm: 7.9053e-02 | LR: 0.064000\n",
      "Epoch  2500 | Train Loss: 0.00147241 | Val Loss: 0.00129644 | Grad Norm: 6.1468e-02 | LR: 0.064000\n",
      "Epoch  2600 | Train Loss: 0.00264603 | Val Loss: 0.00224532 | Grad Norm: 1.2343e-01 | LR: 0.064000\n",
      "Epoch  2700 | Train Loss: 0.00164950 | Val Loss: 0.00098590 | Grad Norm: 7.1117e-02 | LR: 0.064000\n",
      "Epoch  2800 | Train Loss: 0.00137442 | Val Loss: 0.00154729 | Grad Norm: 7.1136e-02 | LR: 0.064000\n",
      "Epoch  2900 | Train Loss: 0.00133073 | Val Loss: 0.00131619 | Grad Norm: 6.5216e-02 | LR: 0.064000\n",
      "Epoch  3000 | Train Loss: 0.00198049 | Val Loss: 0.00160353 | Grad Norm: 8.4783e-02 | LR: 0.051200\n",
      "Epoch  3100 | Train Loss: 0.00123048 | Val Loss: 0.00093254 | Grad Norm: 4.5853e-02 | LR: 0.051200\n",
      "Epoch  3200 | Train Loss: 0.00123671 | Val Loss: 0.00100453 | Grad Norm: 5.3784e-02 | LR: 0.051200\n",
      "Epoch  3300 | Train Loss: 0.00096438 | Val Loss: 0.00099906 | Grad Norm: 3.3575e-02 | LR: 0.051200\n",
      "Epoch  3400 | Train Loss: 0.00093758 | Val Loss: 0.00115938 | Grad Norm: 3.4578e-02 | LR: 0.051200\n",
      "Epoch  3500 | Train Loss: 0.00168704 | Val Loss: 0.00131043 | Grad Norm: 7.2183e-02 | LR: 0.051200\n",
      "Epoch  3600 | Train Loss: 0.00092769 | Val Loss: 0.00149392 | Grad Norm: 3.6352e-02 | LR: 0.051200\n",
      "Epoch  3700 | Train Loss: 0.00134668 | Val Loss: 0.00130778 | Grad Norm: 6.2147e-02 | LR: 0.051200\n",
      "Epoch  3800 | Train Loss: 0.00179518 | Val Loss: 0.00175878 | Grad Norm: 8.5893e-02 | LR: 0.051200\n",
      "Epoch  3900 | Train Loss: 0.00118476 | Val Loss: 0.00125295 | Grad Norm: 5.5519e-02 | LR: 0.051200\n",
      "Epoch  4000 | Train Loss: 0.00123309 | Val Loss: 0.00102923 | Grad Norm: 5.5644e-02 | LR: 0.040960\n",
      "Epoch  4100 | Train Loss: 0.00088953 | Val Loss: 0.00088218 | Grad Norm: 3.6928e-02 | LR: 0.040960\n",
      "Epoch  4200 | Train Loss: 0.00092153 | Val Loss: 0.00079168 | Grad Norm: 3.7700e-02 | LR: 0.040960\n",
      "Epoch  4300 | Train Loss: 0.00096494 | Val Loss: 0.00074334 | Grad Norm: 4.3759e-02 | LR: 0.040960\n",
      "Epoch  4400 | Train Loss: 0.00105808 | Val Loss: 0.00144156 | Grad Norm: 4.6108e-02 | LR: 0.040960\n",
      "Epoch  4500 | Train Loss: 0.00088227 | Val Loss: 0.00085934 | Grad Norm: 3.9961e-02 | LR: 0.040960\n",
      "Epoch  4600 | Train Loss: 0.00107307 | Val Loss: 0.00135525 | Grad Norm: 4.4822e-02 | LR: 0.040960\n",
      "Epoch  4700 | Train Loss: 0.00085846 | Val Loss: 0.00120441 | Grad Norm: 2.9300e-02 | LR: 0.040960\n",
      "Epoch  4800 | Train Loss: 0.00099119 | Val Loss: 0.00108407 | Grad Norm: 4.0191e-02 | LR: 0.040960\n",
      "Epoch  4900 | Train Loss: 0.00176836 | Val Loss: 0.00142958 | Grad Norm: 9.0057e-02 | LR: 0.040960\n",
      "Epoch  5000 | Train Loss: 0.00082432 | Val Loss: 0.00074959 | Grad Norm: 3.1727e-02 | LR: 0.032768\n",
      "Epoch  5100 | Train Loss: 0.00091298 | Val Loss: 0.00081847 | Grad Norm: 4.2145e-02 | LR: 0.032768\n",
      "Epoch  5200 | Train Loss: 0.00093606 | Val Loss: 0.00084155 | Grad Norm: 3.9823e-02 | LR: 0.032768\n",
      "Epoch  5300 | Train Loss: 0.00123753 | Val Loss: 0.00111522 | Grad Norm: 5.5953e-02 | LR: 0.032768\n",
      "Epoch  5400 | Train Loss: 0.00080250 | Val Loss: 0.00099312 | Grad Norm: 3.5452e-02 | LR: 0.032768\n",
      "Epoch  5500 | Train Loss: 0.00089478 | Val Loss: 0.00074855 | Grad Norm: 3.9825e-02 | LR: 0.032768\n",
      "Epoch  5600 | Train Loss: 0.00140435 | Val Loss: 0.00125512 | Grad Norm: 7.2577e-02 | LR: 0.032768\n",
      "Epoch  5700 | Train Loss: 0.00100689 | Val Loss: 0.00095662 | Grad Norm: 3.8041e-02 | LR: 0.032768\n",
      "Epoch  5800 | Train Loss: 0.00135350 | Val Loss: 0.00143247 | Grad Norm: 7.9733e-02 | LR: 0.032768\n",
      "Epoch  5900 | Train Loss: 0.00090973 | Val Loss: 0.00118041 | Grad Norm: 3.8972e-02 | LR: 0.032768\n",
      "Epoch  6000 | Train Loss: 0.00124510 | Val Loss: 0.00073438 | Grad Norm: 6.2675e-02 | LR: 0.026214\n",
      "Epoch  6100 | Train Loss: 0.00089051 | Val Loss: 0.00071530 | Grad Norm: 3.6578e-02 | LR: 0.026214\n",
      "Epoch  6200 | Train Loss: 0.00075552 | Val Loss: 0.00087915 | Grad Norm: 3.2322e-02 | LR: 0.026214\n",
      "Epoch  6300 | Train Loss: 0.00090628 | Val Loss: 0.00080627 | Grad Norm: 4.7922e-02 | LR: 0.026214\n",
      "Epoch  6400 | Train Loss: 0.00083085 | Val Loss: 0.00084712 | Grad Norm: 3.5612e-02 | LR: 0.026214\n",
      "Epoch  6500 | Train Loss: 0.00079069 | Val Loss: 0.00079669 | Grad Norm: 3.5848e-02 | LR: 0.026214\n",
      "Epoch  6600 | Train Loss: 0.00067354 | Val Loss: 0.00077161 | Grad Norm: 1.8192e-02 | LR: 0.026214\n",
      "Epoch  6700 | Train Loss: 0.00098487 | Val Loss: 0.00081467 | Grad Norm: 5.2904e-02 | LR: 0.026214\n",
      "Epoch  6800 | Train Loss: 0.00074629 | Val Loss: 0.00078410 | Grad Norm: 3.3649e-02 | LR: 0.026214\n",
      "Epoch  6900 | Train Loss: 0.00073993 | Val Loss: 0.00079745 | Grad Norm: 2.4688e-02 | LR: 0.026214\n",
      "Epoch  7000 | Train Loss: 0.00071409 | Val Loss: 0.00081124 | Grad Norm: 2.8620e-02 | LR: 0.020972\n",
      "Epoch  7100 | Train Loss: 0.00068331 | Val Loss: 0.00075152 | Grad Norm: 2.1371e-02 | LR: 0.020972\n",
      "Epoch  7200 | Train Loss: 0.00071728 | Val Loss: 0.00062543 | Grad Norm: 2.4376e-02 | LR: 0.020972\n",
      "Epoch  7300 | Train Loss: 0.00079825 | Val Loss: 0.00061433 | Grad Norm: 4.4033e-02 | LR: 0.020972\n",
      "Epoch  7400 | Train Loss: 0.00065640 | Val Loss: 0.00068636 | Grad Norm: 2.2166e-02 | LR: 0.020972\n",
      "Epoch  7500 | Train Loss: 0.00061325 | Val Loss: 0.00085490 | Grad Norm: 1.9676e-02 | LR: 0.020972\n",
      "Epoch  7600 | Train Loss: 0.00067548 | Val Loss: 0.00088673 | Grad Norm: 3.3258e-02 | LR: 0.020972\n",
      "Epoch  7700 | Train Loss: 0.00071717 | Val Loss: 0.00064261 | Grad Norm: 3.8399e-02 | LR: 0.020972\n",
      "Epoch  7800 | Train Loss: 0.00094922 | Val Loss: 0.00066716 | Grad Norm: 5.8064e-02 | LR: 0.020972\n",
      "Epoch  7900 | Train Loss: 0.00072920 | Val Loss: 0.00097173 | Grad Norm: 4.2108e-02 | LR: 0.020972\n",
      "Epoch  8000 | Train Loss: 0.00073681 | Val Loss: 0.00068998 | Grad Norm: 3.4859e-02 | LR: 0.016777\n",
      "Epoch  8100 | Train Loss: 0.00069895 | Val Loss: 0.00063801 | Grad Norm: 3.8141e-02 | LR: 0.016777\n",
      "Epoch  8200 | Train Loss: 0.00055623 | Val Loss: 0.00059120 | Grad Norm: 1.9461e-02 | LR: 0.016777\n",
      "Epoch  8300 | Train Loss: 0.00062221 | Val Loss: 0.00057660 | Grad Norm: 2.5704e-02 | LR: 0.016777\n",
      "Epoch  8400 | Train Loss: 0.00053713 | Val Loss: 0.00063586 | Grad Norm: 1.9322e-02 | LR: 0.016777\n",
      "Epoch  8500 | Train Loss: 0.00068036 | Val Loss: 0.00067774 | Grad Norm: 3.7128e-02 | LR: 0.016777\n",
      "Epoch  8600 | Train Loss: 0.00064946 | Val Loss: 0.00060351 | Grad Norm: 2.9507e-02 | LR: 0.016777\n",
      "Epoch  8700 | Train Loss: 0.00060217 | Val Loss: 0.00069103 | Grad Norm: 2.7794e-02 | LR: 0.016777\n",
      "Epoch  8800 | Train Loss: 0.00051922 | Val Loss: 0.00063576 | Grad Norm: 2.5166e-02 | LR: 0.016777\n",
      "Epoch  8900 | Train Loss: 0.00080372 | Val Loss: 0.00067376 | Grad Norm: 4.9758e-02 | LR: 0.016777\n",
      "Epoch  9000 | Train Loss: 0.00052700 | Val Loss: 0.00056309 | Grad Norm: 2.4599e-02 | LR: 0.013422\n",
      "Epoch  9100 | Train Loss: 0.00059241 | Val Loss: 0.00051996 | Grad Norm: 2.3329e-02 | LR: 0.013422\n",
      "Epoch  9200 | Train Loss: 0.00067103 | Val Loss: 0.00064630 | Grad Norm: 2.7344e-02 | LR: 0.013422\n",
      "Epoch  9300 | Train Loss: 0.00056869 | Val Loss: 0.00050862 | Grad Norm: 2.2246e-02 | LR: 0.013422\n",
      "Epoch  9400 | Train Loss: 0.00051213 | Val Loss: 0.00051851 | Grad Norm: 1.9002e-02 | LR: 0.013422\n",
      "Epoch  9500 | Train Loss: 0.00058647 | Val Loss: 0.00052750 | Grad Norm: 1.8419e-02 | LR: 0.013422\n",
      "Epoch  9600 | Train Loss: 0.00066331 | Val Loss: 0.00068742 | Grad Norm: 4.3730e-02 | LR: 0.013422\n",
      "Epoch  9700 | Train Loss: 0.00048758 | Val Loss: 0.00055590 | Grad Norm: 1.4203e-02 | LR: 0.013422\n",
      "Epoch  9800 | Train Loss: 0.00048493 | Val Loss: 0.00055165 | Grad Norm: 2.0948e-02 | LR: 0.013422\n",
      "Epoch  9900 | Train Loss: 0.00063857 | Val Loss: 0.00054603 | Grad Norm: 3.1208e-02 | LR: 0.013422\n",
      "Epoch 10000 | Train Loss: 0.00059736 | Val Loss: 0.00055448 | Grad Norm: 2.5302e-02 | LR: 0.010737\n",
      "Epoch 10100 | Train Loss: 0.00049584 | Val Loss: 0.00052540 | Grad Norm: 1.7776e-02 | LR: 0.010737\n",
      "Epoch 10200 | Train Loss: 0.00069827 | Val Loss: 0.00054422 | Grad Norm: 4.0989e-02 | LR: 0.010737\n",
      "Epoch 10300 | Train Loss: 0.00072757 | Val Loss: 0.00056817 | Grad Norm: 4.5123e-02 | LR: 0.010737\n",
      "Epoch 10400 | Train Loss: 0.00046979 | Val Loss: 0.00051190 | Grad Norm: 2.3744e-02 | LR: 0.010737\n",
      "Epoch 10500 | Train Loss: 0.00054243 | Val Loss: 0.00059644 | Grad Norm: 2.6010e-02 | LR: 0.010737\n",
      "Epoch 10600 | Train Loss: 0.00048099 | Val Loss: 0.00057264 | Grad Norm: 2.0794e-02 | LR: 0.010737\n",
      "Epoch 10700 | Train Loss: 0.00048104 | Val Loss: 0.00050348 | Grad Norm: 1.6145e-02 | LR: 0.010737\n",
      "Epoch 10800 | Train Loss: 0.00068628 | Val Loss: 0.00053713 | Grad Norm: 3.7906e-02 | LR: 0.010737\n",
      "Epoch 10900 | Train Loss: 0.00048009 | Val Loss: 0.00050897 | Grad Norm: 2.2011e-02 | LR: 0.010737\n",
      "Epoch 11000 | Train Loss: 0.00061445 | Val Loss: 0.00057858 | Grad Norm: 3.9518e-02 | LR: 0.008590\n",
      "Epoch 11100 | Train Loss: 0.00049075 | Val Loss: 0.00053657 | Grad Norm: 2.5414e-02 | LR: 0.008590\n",
      "Epoch 11200 | Train Loss: 0.00049677 | Val Loss: 0.00047751 | Grad Norm: 2.3233e-02 | LR: 0.008590\n",
      "Epoch 11300 | Train Loss: 0.00046333 | Val Loss: 0.00051628 | Grad Norm: 1.6388e-02 | LR: 0.008590\n",
      "Epoch 11400 | Train Loss: 0.00049611 | Val Loss: 0.00054363 | Grad Norm: 2.1783e-02 | LR: 0.008590\n",
      "Epoch 11500 | Train Loss: 0.00055688 | Val Loss: 0.00049996 | Grad Norm: 2.9358e-02 | LR: 0.008590\n",
      "Epoch 11600 | Train Loss: 0.00056440 | Val Loss: 0.00056139 | Grad Norm: 2.9661e-02 | LR: 0.008590\n",
      "Epoch 11700 | Train Loss: 0.00042067 | Val Loss: 0.00052472 | Grad Norm: 1.7477e-02 | LR: 0.008590\n",
      "Epoch 11800 | Train Loss: 0.00048197 | Val Loss: 0.00050526 | Grad Norm: 2.4147e-02 | LR: 0.008590\n",
      "Epoch 11900 | Train Loss: 0.00050807 | Val Loss: 0.00047425 | Grad Norm: 2.8366e-02 | LR: 0.008590\n",
      "Epoch 12000 | Train Loss: 0.00049328 | Val Loss: 0.00046309 | Grad Norm: 1.9508e-02 | LR: 0.006872\n",
      "Epoch 12100 | Train Loss: 0.00039354 | Val Loss: 0.00047075 | Grad Norm: 9.5474e-03 | LR: 0.006872\n",
      "Epoch 12200 | Train Loss: 0.00048699 | Val Loss: 0.00048787 | Grad Norm: 1.6284e-02 | LR: 0.006872\n",
      "Epoch 12300 | Train Loss: 0.00045537 | Val Loss: 0.00045868 | Grad Norm: 1.9585e-02 | LR: 0.006872\n",
      "Epoch 12400 | Train Loss: 0.00050036 | Val Loss: 0.00046055 | Grad Norm: 3.0662e-02 | LR: 0.006872\n",
      "Epoch 12500 | Train Loss: 0.00053235 | Val Loss: 0.00052850 | Grad Norm: 2.5251e-02 | LR: 0.006872\n",
      "Epoch 12600 | Train Loss: 0.00046896 | Val Loss: 0.00045456 | Grad Norm: 1.7805e-02 | LR: 0.006872\n",
      "Epoch 12700 | Train Loss: 0.00051194 | Val Loss: 0.00047706 | Grad Norm: 2.6626e-02 | LR: 0.006872\n",
      "Epoch 12800 | Train Loss: 0.00044849 | Val Loss: 0.00050388 | Grad Norm: 1.2719e-02 | LR: 0.006872\n",
      "Epoch 12900 | Train Loss: 0.00043059 | Val Loss: 0.00044171 | Grad Norm: 1.5475e-02 | LR: 0.006872\n",
      "Epoch 13000 | Train Loss: 0.00037052 | Val Loss: 0.00045768 | Grad Norm: 1.3532e-02 | LR: 0.005498\n",
      "Epoch 13100 | Train Loss: 0.00046612 | Val Loss: 0.00042607 | Grad Norm: 1.2744e-02 | LR: 0.005498\n",
      "Epoch 13200 | Train Loss: 0.00049013 | Val Loss: 0.00049302 | Grad Norm: 1.7116e-02 | LR: 0.005498\n",
      "Epoch 13300 | Train Loss: 0.00046610 | Val Loss: 0.00051652 | Grad Norm: 2.1147e-02 | LR: 0.005498\n",
      "Epoch 13400 | Train Loss: 0.00049671 | Val Loss: 0.00043803 | Grad Norm: 2.6275e-02 | LR: 0.005498\n",
      "Epoch 13500 | Train Loss: 0.00039141 | Val Loss: 0.00046114 | Grad Norm: 1.1341e-02 | LR: 0.005498\n",
      "Epoch 13600 | Train Loss: 0.00039276 | Val Loss: 0.00041582 | Grad Norm: 1.4080e-02 | LR: 0.005498\n",
      "Epoch 13700 | Train Loss: 0.00044085 | Val Loss: 0.00046628 | Grad Norm: 2.5911e-02 | LR: 0.005498\n",
      "Epoch 13800 | Train Loss: 0.00045392 | Val Loss: 0.00043185 | Grad Norm: 2.3238e-02 | LR: 0.005498\n",
      "Epoch 13900 | Train Loss: 0.00042316 | Val Loss: 0.00043323 | Grad Norm: 1.5467e-02 | LR: 0.005498\n",
      "Epoch 14000 | Train Loss: 0.00044912 | Val Loss: 0.00044583 | Grad Norm: 2.2423e-02 | LR: 0.004398\n",
      "Epoch 14100 | Train Loss: 0.00039805 | Val Loss: 0.00043920 | Grad Norm: 1.3833e-02 | LR: 0.004398\n",
      "Epoch 14200 | Train Loss: 0.00038978 | Val Loss: 0.00042365 | Grad Norm: 1.0820e-02 | LR: 0.004398\n",
      "Epoch 14300 | Train Loss: 0.00046474 | Val Loss: 0.00040040 | Grad Norm: 2.1430e-02 | LR: 0.004398\n",
      "Epoch 14400 | Train Loss: 0.00040839 | Val Loss: 0.00042687 | Grad Norm: 1.2409e-02 | LR: 0.004398\n",
      "Epoch 14500 | Train Loss: 0.00038367 | Val Loss: 0.00042170 | Grad Norm: 1.1393e-02 | LR: 0.004398\n",
      "Epoch 14600 | Train Loss: 0.00043031 | Val Loss: 0.00040681 | Grad Norm: 1.8175e-02 | LR: 0.004398\n",
      "Epoch 14700 | Train Loss: 0.00040243 | Val Loss: 0.00042368 | Grad Norm: 1.2464e-02 | LR: 0.004398\n",
      "Epoch 14800 | Train Loss: 0.00035174 | Val Loss: 0.00042049 | Grad Norm: 1.4137e-02 | LR: 0.004398\n",
      "Epoch 14900 | Train Loss: 0.00040313 | Val Loss: 0.00041888 | Grad Norm: 1.9845e-02 | LR: 0.004398\n",
      "Epoch 15000 | Train Loss: 0.00042730 | Val Loss: 0.00043504 | Grad Norm: 1.1440e-02 | LR: 0.003518\n",
      "Epoch 15100 | Train Loss: 0.00043867 | Val Loss: 0.00041061 | Grad Norm: 2.3924e-02 | LR: 0.003518\n",
      "Epoch 15200 | Train Loss: 0.00039806 | Val Loss: 0.00041218 | Grad Norm: 1.1406e-02 | LR: 0.003518\n",
      "Epoch 15300 | Train Loss: 0.00038877 | Val Loss: 0.00041018 | Grad Norm: 8.4247e-03 | LR: 0.003518\n",
      "Epoch 15400 | Train Loss: 0.00036944 | Val Loss: 0.00042654 | Grad Norm: 1.3109e-02 | LR: 0.003518\n",
      "Epoch 15500 | Train Loss: 0.00038713 | Val Loss: 0.00040835 | Grad Norm: 1.4645e-02 | LR: 0.003518\n",
      "Epoch 15600 | Train Loss: 0.00043340 | Val Loss: 0.00040951 | Grad Norm: 1.9502e-02 | LR: 0.003518\n",
      "Epoch 15700 | Train Loss: 0.00035151 | Val Loss: 0.00042627 | Grad Norm: 1.3574e-02 | LR: 0.003518\n",
      "Epoch 15800 | Train Loss: 0.00048783 | Val Loss: 0.00040628 | Grad Norm: 2.2640e-02 | LR: 0.003518\n",
      "Epoch 15900 | Train Loss: 0.00038825 | Val Loss: 0.00037697 | Grad Norm: 1.3364e-02 | LR: 0.003518\n",
      "Epoch 16000 | Train Loss: 0.00039499 | Val Loss: 0.00040206 | Grad Norm: 7.9776e-03 | LR: 0.002815\n",
      "Epoch 16100 | Train Loss: 0.00037978 | Val Loss: 0.00038695 | Grad Norm: 9.6168e-03 | LR: 0.002815\n",
      "Epoch 16200 | Train Loss: 0.00041284 | Val Loss: 0.00038637 | Grad Norm: 1.1971e-02 | LR: 0.002815\n",
      "Epoch 16300 | Train Loss: 0.00036272 | Val Loss: 0.00040150 | Grad Norm: 1.1890e-02 | LR: 0.002815\n",
      "Epoch 16400 | Train Loss: 0.00038298 | Val Loss: 0.00037950 | Grad Norm: 1.3749e-02 | LR: 0.002815\n",
      "Epoch 16500 | Train Loss: 0.00036818 | Val Loss: 0.00039965 | Grad Norm: 1.1610e-02 | LR: 0.002815\n",
      "Epoch 16600 | Train Loss: 0.00042694 | Val Loss: 0.00038853 | Grad Norm: 1.3354e-02 | LR: 0.002815\n",
      "Epoch 16700 | Train Loss: 0.00042870 | Val Loss: 0.00040810 | Grad Norm: 1.0999e-02 | LR: 0.002815\n",
      "Epoch 16800 | Train Loss: 0.00039550 | Val Loss: 0.00039488 | Grad Norm: 1.8627e-02 | LR: 0.002815\n",
      "Epoch 16900 | Train Loss: 0.00037385 | Val Loss: 0.00041112 | Grad Norm: 1.5118e-02 | LR: 0.002815\n",
      "Epoch 17000 | Train Loss: 0.00036647 | Val Loss: 0.00038050 | Grad Norm: 1.5878e-02 | LR: 0.002252\n",
      "Epoch 17100 | Train Loss: 0.00037320 | Val Loss: 0.00039054 | Grad Norm: 1.3663e-02 | LR: 0.002252\n",
      "Epoch 17200 | Train Loss: 0.00037115 | Val Loss: 0.00037629 | Grad Norm: 1.1077e-02 | LR: 0.002252\n",
      "Epoch 17300 | Train Loss: 0.00040722 | Val Loss: 0.00037557 | Grad Norm: 1.5870e-02 | LR: 0.002252\n",
      "Epoch 17400 | Train Loss: 0.00039264 | Val Loss: 0.00041215 | Grad Norm: 1.1461e-02 | LR: 0.002252\n",
      "Epoch 17500 | Train Loss: 0.00035097 | Val Loss: 0.00038321 | Grad Norm: 1.3421e-02 | LR: 0.002252\n",
      "Epoch 17600 | Train Loss: 0.00037919 | Val Loss: 0.00037585 | Grad Norm: 1.1478e-02 | LR: 0.002252\n",
      "Epoch 17700 | Train Loss: 0.00041010 | Val Loss: 0.00038239 | Grad Norm: 1.8204e-02 | LR: 0.002252\n",
      "Epoch 17800 | Train Loss: 0.00037571 | Val Loss: 0.00042826 | Grad Norm: 1.6179e-02 | LR: 0.002252\n",
      "Epoch 17900 | Train Loss: 0.00034622 | Val Loss: 0.00038919 | Grad Norm: 1.0458e-02 | LR: 0.002252\n",
      "Epoch 18000 | Train Loss: 0.00032749 | Val Loss: 0.00039399 | Grad Norm: 7.1381e-03 | LR: 0.001801\n",
      "Epoch 18100 | Train Loss: 0.00036478 | Val Loss: 0.00037435 | Grad Norm: 1.4001e-02 | LR: 0.001801\n",
      "Epoch 18200 | Train Loss: 0.00038999 | Val Loss: 0.00038035 | Grad Norm: 1.1894e-02 | LR: 0.001801\n",
      "Epoch 18300 | Train Loss: 0.00037486 | Val Loss: 0.00038519 | Grad Norm: 1.1749e-02 | LR: 0.001801\n",
      "Epoch 18400 | Train Loss: 0.00033830 | Val Loss: 0.00037989 | Grad Norm: 9.6802e-03 | LR: 0.001801\n",
      "Epoch 18500 | Train Loss: 0.00038728 | Val Loss: 0.00038148 | Grad Norm: 1.2758e-02 | LR: 0.001801\n",
      "Epoch 18600 | Train Loss: 0.00040696 | Val Loss: 0.00037426 | Grad Norm: 1.2928e-02 | LR: 0.001801\n",
      "Epoch 18700 | Train Loss: 0.00036235 | Val Loss: 0.00038684 | Grad Norm: 1.3044e-02 | LR: 0.001801\n",
      "Epoch 18800 | Train Loss: 0.00031994 | Val Loss: 0.00037460 | Grad Norm: 8.5198e-03 | LR: 0.001801\n",
      "Epoch 18900 | Train Loss: 0.00035570 | Val Loss: 0.00038406 | Grad Norm: 8.2722e-03 | LR: 0.001801\n",
      "Epoch 19000 | Train Loss: 0.00038127 | Val Loss: 0.00037707 | Grad Norm: 1.2777e-02 | LR: 0.001441\n",
      "Epoch 19100 | Train Loss: 0.00037045 | Val Loss: 0.00040172 | Grad Norm: 1.1507e-02 | LR: 0.001441\n",
      "Epoch 19200 | Train Loss: 0.00038392 | Val Loss: 0.00038157 | Grad Norm: 1.2805e-02 | LR: 0.001441\n",
      "Epoch 19300 | Train Loss: 0.00034487 | Val Loss: 0.00037677 | Grad Norm: 9.7064e-03 | LR: 0.001441\n",
      "Epoch 19400 | Train Loss: 0.00036328 | Val Loss: 0.00037735 | Grad Norm: 9.7730e-03 | LR: 0.001441\n",
      "Epoch 19500 | Train Loss: 0.00037279 | Val Loss: 0.00037103 | Grad Norm: 1.2859e-02 | LR: 0.001441\n",
      "Epoch 19600 | Train Loss: 0.00041704 | Val Loss: 0.00037065 | Grad Norm: 1.2844e-02 | LR: 0.001441\n",
      "Epoch 19700 | Train Loss: 0.00030688 | Val Loss: 0.00037464 | Grad Norm: 4.8150e-03 | LR: 0.001441\n",
      "Epoch 19800 | Train Loss: 0.00034035 | Val Loss: 0.00037343 | Grad Norm: 1.1139e-02 | LR: 0.001441\n",
      "Epoch 19900 | Train Loss: 0.00040881 | Val Loss: 0.00037796 | Grad Norm: 1.5275e-02 | LR: 0.001441\n",
      "Epoch 20000 | Train Loss: 0.00033770 | Val Loss: 0.00038152 | Grad Norm: 7.3799e-03 | LR: 0.001153\n",
      "Epoch 20100 | Train Loss: 0.00033795 | Val Loss: 0.00037527 | Grad Norm: 8.8975e-03 | LR: 0.001153\n",
      "Epoch 20200 | Train Loss: 0.00036239 | Val Loss: 0.00037048 | Grad Norm: 1.1008e-02 | LR: 0.001153\n",
      "Epoch 20300 | Train Loss: 0.00039560 | Val Loss: 0.00036230 | Grad Norm: 8.7644e-03 | LR: 0.001153\n",
      "Epoch 20400 | Train Loss: 0.00034706 | Val Loss: 0.00037635 | Grad Norm: 7.6113e-03 | LR: 0.001153\n",
      "Epoch 20500 | Train Loss: 0.00038604 | Val Loss: 0.00036570 | Grad Norm: 1.1184e-02 | LR: 0.001153\n",
      "Epoch 20600 | Train Loss: 0.00038427 | Val Loss: 0.00037485 | Grad Norm: 8.5651e-03 | LR: 0.001153\n",
      "Epoch 20700 | Train Loss: 0.00038634 | Val Loss: 0.00036855 | Grad Norm: 1.2482e-02 | LR: 0.001153\n",
      "Epoch 20800 | Train Loss: 0.00037133 | Val Loss: 0.00038178 | Grad Norm: 1.0668e-02 | LR: 0.001153\n",
      "Epoch 20900 | Train Loss: 0.00033519 | Val Loss: 0.00037158 | Grad Norm: 7.1129e-03 | LR: 0.001153\n",
      "Epoch 21000 | Train Loss: 0.00035664 | Val Loss: 0.00036750 | Grad Norm: 9.1545e-03 | LR: 0.000922\n",
      "Epoch 21100 | Train Loss: 0.00037121 | Val Loss: 0.00036462 | Grad Norm: 1.2883e-02 | LR: 0.000922\n",
      "Epoch 21200 | Train Loss: 0.00033696 | Val Loss: 0.00037039 | Grad Norm: 1.0126e-02 | LR: 0.000922\n",
      "Epoch 21300 | Train Loss: 0.00038655 | Val Loss: 0.00036815 | Grad Norm: 1.3307e-02 | LR: 0.000922\n",
      "Epoch 21400 | Train Loss: 0.00033099 | Val Loss: 0.00036392 | Grad Norm: 4.7032e-03 | LR: 0.000922\n",
      "Epoch 21500 | Train Loss: 0.00035074 | Val Loss: 0.00036716 | Grad Norm: 9.0707e-03 | LR: 0.000922\n",
      "Epoch 21600 | Train Loss: 0.00034259 | Val Loss: 0.00036936 | Grad Norm: 9.6427e-03 | LR: 0.000922\n",
      "Epoch 21700 | Train Loss: 0.00039370 | Val Loss: 0.00036519 | Grad Norm: 1.2083e-02 | LR: 0.000922\n",
      "Epoch 21800 | Train Loss: 0.00036219 | Val Loss: 0.00037012 | Grad Norm: 1.2880e-02 | LR: 0.000922\n",
      "Epoch 21900 | Train Loss: 0.00033232 | Val Loss: 0.00036860 | Grad Norm: 9.1950e-03 | LR: 0.000922\n",
      "Epoch 22000 | Train Loss: 0.00036034 | Val Loss: 0.00037363 | Grad Norm: 9.7191e-03 | LR: 0.000738\n",
      "Epoch 22100 | Train Loss: 0.00034755 | Val Loss: 0.00036561 | Grad Norm: 6.8678e-03 | LR: 0.000738\n",
      "Epoch 22200 | Train Loss: 0.00035052 | Val Loss: 0.00036690 | Grad Norm: 1.2288e-02 | LR: 0.000738\n",
      "Epoch 22300 | Train Loss: 0.00035381 | Val Loss: 0.00036178 | Grad Norm: 8.3203e-03 | LR: 0.000738\n",
      "Epoch 22400 | Train Loss: 0.00035483 | Val Loss: 0.00036284 | Grad Norm: 9.9662e-03 | LR: 0.000738\n",
      "Epoch 22500 | Train Loss: 0.00036669 | Val Loss: 0.00036551 | Grad Norm: 9.0437e-03 | LR: 0.000738\n",
      "Epoch 22600 | Train Loss: 0.00034505 | Val Loss: 0.00036282 | Grad Norm: 9.0418e-03 | LR: 0.000738\n",
      "Epoch 22700 | Train Loss: 0.00035680 | Val Loss: 0.00037382 | Grad Norm: 9.4668e-03 | LR: 0.000738\n",
      "Epoch 22800 | Train Loss: 0.00033676 | Val Loss: 0.00036774 | Grad Norm: 8.7043e-03 | LR: 0.000738\n",
      "Epoch 22900 | Train Loss: 0.00035232 | Val Loss: 0.00037060 | Grad Norm: 7.1612e-03 | LR: 0.000738\n",
      "Epoch 23000 | Train Loss: 0.00034340 | Val Loss: 0.00036685 | Grad Norm: 1.1895e-02 | LR: 0.000590\n",
      "Epoch 23100 | Train Loss: 0.00036291 | Val Loss: 0.00035995 | Grad Norm: 7.8189e-03 | LR: 0.000590\n",
      "Epoch 23200 | Train Loss: 0.00032517 | Val Loss: 0.00036362 | Grad Norm: 8.6356e-03 | LR: 0.000590\n",
      "Epoch 23300 | Train Loss: 0.00033829 | Val Loss: 0.00036323 | Grad Norm: 1.1438e-02 | LR: 0.000590\n",
      "Epoch 23400 | Train Loss: 0.00036270 | Val Loss: 0.00036161 | Grad Norm: 1.1250e-02 | LR: 0.000590\n",
      "Epoch 23500 | Train Loss: 0.00037913 | Val Loss: 0.00036189 | Grad Norm: 6.4388e-03 | LR: 0.000590\n",
      "Epoch 23600 | Train Loss: 0.00033013 | Val Loss: 0.00036850 | Grad Norm: 7.1130e-03 | LR: 0.000590\n",
      "Epoch 23700 | Train Loss: 0.00033948 | Val Loss: 0.00036040 | Grad Norm: 1.1959e-02 | LR: 0.000590\n",
      "Epoch 23800 | Train Loss: 0.00038301 | Val Loss: 0.00036215 | Grad Norm: 7.5346e-03 | LR: 0.000590\n",
      "Epoch 23900 | Train Loss: 0.00034427 | Val Loss: 0.00036578 | Grad Norm: 7.3330e-03 | LR: 0.000590\n",
      "Epoch 24000 | Train Loss: 0.00036447 | Val Loss: 0.00036496 | Grad Norm: 1.1547e-02 | LR: 0.000472\n",
      "Epoch 24100 | Train Loss: 0.00031570 | Val Loss: 0.00036304 | Grad Norm: 1.2191e-02 | LR: 0.000472\n",
      "Epoch 24200 | Train Loss: 0.00036189 | Val Loss: 0.00036284 | Grad Norm: 8.1003e-03 | LR: 0.000472\n",
      "Epoch 24300 | Train Loss: 0.00036764 | Val Loss: 0.00036268 | Grad Norm: 8.9837e-03 | LR: 0.000472\n",
      "Epoch 24400 | Train Loss: 0.00036819 | Val Loss: 0.00036553 | Grad Norm: 9.4544e-03 | LR: 0.000472\n",
      "Epoch 24500 | Train Loss: 0.00039581 | Val Loss: 0.00035983 | Grad Norm: 9.5871e-03 | LR: 0.000472\n",
      "Epoch 24600 | Train Loss: 0.00034532 | Val Loss: 0.00035733 | Grad Norm: 8.7357e-03 | LR: 0.000472\n",
      "Epoch 24700 | Train Loss: 0.00038610 | Val Loss: 0.00035794 | Grad Norm: 9.3227e-03 | LR: 0.000472\n",
      "Epoch 24800 | Train Loss: 0.00041333 | Val Loss: 0.00036175 | Grad Norm: 9.2591e-03 | LR: 0.000472\n",
      "Epoch 24900 | Train Loss: 0.00034334 | Val Loss: 0.00035899 | Grad Norm: 7.8375e-03 | LR: 0.000472\n",
      "Epoch 25000 | Train Loss: 0.00036126 | Val Loss: 0.00035892 | Grad Norm: 7.4984e-03 | LR: 0.000378\n",
      "Epoch 25100 | Train Loss: 0.00035299 | Val Loss: 0.00036510 | Grad Norm: 9.8792e-03 | LR: 0.000378\n",
      "Epoch 25200 | Train Loss: 0.00034100 | Val Loss: 0.00035891 | Grad Norm: 8.3318e-03 | LR: 0.000378\n",
      "Epoch 25300 | Train Loss: 0.00034653 | Val Loss: 0.00035738 | Grad Norm: 7.6062e-03 | LR: 0.000378\n",
      "Epoch 25400 | Train Loss: 0.00038491 | Val Loss: 0.00035599 | Grad Norm: 1.0687e-02 | LR: 0.000378\n",
      "Epoch 25500 | Train Loss: 0.00034712 | Val Loss: 0.00035964 | Grad Norm: 8.0220e-03 | LR: 0.000378\n",
      "Epoch 25600 | Train Loss: 0.00037103 | Val Loss: 0.00036020 | Grad Norm: 7.9736e-03 | LR: 0.000378\n",
      "Epoch 25700 | Train Loss: 0.00036046 | Val Loss: 0.00036079 | Grad Norm: 1.0478e-02 | LR: 0.000378\n",
      "Epoch 25800 | Train Loss: 0.00038544 | Val Loss: 0.00035645 | Grad Norm: 6.0674e-03 | LR: 0.000378\n",
      "Epoch 25900 | Train Loss: 0.00037475 | Val Loss: 0.00035907 | Grad Norm: 9.0418e-03 | LR: 0.000378\n",
      "Epoch 26000 | Train Loss: 0.00033707 | Val Loss: 0.00035774 | Grad Norm: 9.7663e-03 | LR: 0.000302\n",
      "Epoch 26100 | Train Loss: 0.00031606 | Val Loss: 0.00035958 | Grad Norm: 4.5500e-03 | LR: 0.000302\n",
      "Epoch 26200 | Train Loss: 0.00038315 | Val Loss: 0.00035699 | Grad Norm: 1.3053e-02 | LR: 0.000302\n",
      "Epoch 26300 | Train Loss: 0.00034506 | Val Loss: 0.00035741 | Grad Norm: 8.3295e-03 | LR: 0.000302\n",
      "Epoch 26400 | Train Loss: 0.00034824 | Val Loss: 0.00035577 | Grad Norm: 1.0630e-02 | LR: 0.000302\n",
      "Epoch 26500 | Train Loss: 0.00032992 | Val Loss: 0.00036084 | Grad Norm: 8.9488e-03 | LR: 0.000302\n",
      "Epoch 26600 | Train Loss: 0.00036038 | Val Loss: 0.00035583 | Grad Norm: 6.2500e-03 | LR: 0.000302\n",
      "Epoch 26700 | Train Loss: 0.00034628 | Val Loss: 0.00035660 | Grad Norm: 5.2235e-03 | LR: 0.000302\n",
      "Epoch 26800 | Train Loss: 0.00037705 | Val Loss: 0.00035693 | Grad Norm: 1.0839e-02 | LR: 0.000302\n",
      "Epoch 26900 | Train Loss: 0.00037627 | Val Loss: 0.00036442 | Grad Norm: 1.4944e-02 | LR: 0.000302\n",
      "Epoch 27000 | Train Loss: 0.00036486 | Val Loss: 0.00036458 | Grad Norm: 1.1143e-02 | LR: 0.000242\n",
      "Epoch 27100 | Train Loss: 0.00036547 | Val Loss: 0.00035594 | Grad Norm: 9.0037e-03 | LR: 0.000242\n",
      "Epoch 27200 | Train Loss: 0.00032411 | Val Loss: 0.00036189 | Grad Norm: 5.8313e-03 | LR: 0.000242\n",
      "Epoch 27300 | Train Loss: 0.00030867 | Val Loss: 0.00035700 | Grad Norm: 7.5317e-03 | LR: 0.000242\n",
      "Epoch 27400 | Train Loss: 0.00031889 | Val Loss: 0.00035758 | Grad Norm: 5.9398e-03 | LR: 0.000242\n",
      "Epoch 27500 | Train Loss: 0.00039578 | Val Loss: 0.00035631 | Grad Norm: 1.4355e-02 | LR: 0.000242\n",
      "Epoch 27600 | Train Loss: 0.00036236 | Val Loss: 0.00035516 | Grad Norm: 1.1383e-02 | LR: 0.000242\n",
      "Epoch 27700 | Train Loss: 0.00031479 | Val Loss: 0.00035960 | Grad Norm: 6.1737e-03 | LR: 0.000242\n",
      "Epoch 27800 | Train Loss: 0.00034607 | Val Loss: 0.00035956 | Grad Norm: 8.6951e-03 | LR: 0.000242\n",
      "Epoch 27900 | Train Loss: 0.00034482 | Val Loss: 0.00035891 | Grad Norm: 1.1336e-02 | LR: 0.000242\n",
      "Epoch 28000 | Train Loss: 0.00040696 | Val Loss: 0.00035648 | Grad Norm: 5.9816e-03 | LR: 0.000193\n",
      "Epoch 28100 | Train Loss: 0.00033898 | Val Loss: 0.00035598 | Grad Norm: 6.2404e-03 | LR: 0.000193\n",
      "Epoch 28200 | Train Loss: 0.00033336 | Val Loss: 0.00035548 | Grad Norm: 6.3611e-03 | LR: 0.000193\n",
      "Epoch 28300 | Train Loss: 0.00035077 | Val Loss: 0.00035954 | Grad Norm: 5.8179e-03 | LR: 0.000193\n",
      "Epoch 28400 | Train Loss: 0.00033802 | Val Loss: 0.00036091 | Grad Norm: 5.7602e-03 | LR: 0.000193\n",
      "Epoch 28500 | Train Loss: 0.00032030 | Val Loss: 0.00035809 | Grad Norm: 6.7899e-03 | LR: 0.000193\n",
      "Epoch 28600 | Train Loss: 0.00033447 | Val Loss: 0.00035495 | Grad Norm: 7.9065e-03 | LR: 0.000193\n",
      "Epoch 28700 | Train Loss: 0.00038606 | Val Loss: 0.00035681 | Grad Norm: 9.8660e-03 | LR: 0.000193\n",
      "Epoch 28800 | Train Loss: 0.00035734 | Val Loss: 0.00035656 | Grad Norm: 1.1286e-02 | LR: 0.000193\n",
      "Epoch 28900 | Train Loss: 0.00031914 | Val Loss: 0.00035759 | Grad Norm: 5.7326e-03 | LR: 0.000193\n",
      "Epoch 29000 | Train Loss: 0.00036078 | Val Loss: 0.00035783 | Grad Norm: 6.7181e-03 | LR: 0.000155\n",
      "Epoch 29100 | Train Loss: 0.00033416 | Val Loss: 0.00035569 | Grad Norm: 8.3394e-03 | LR: 0.000155\n",
      "Epoch 29200 | Train Loss: 0.00033073 | Val Loss: 0.00035837 | Grad Norm: 4.9740e-03 | LR: 0.000155\n",
      "Epoch 29300 | Train Loss: 0.00035068 | Val Loss: 0.00035988 | Grad Norm: 4.7803e-03 | LR: 0.000155\n",
      "Epoch 29400 | Train Loss: 0.00034685 | Val Loss: 0.00035387 | Grad Norm: 6.8722e-03 | LR: 0.000155\n",
      "Epoch 29500 | Train Loss: 0.00033707 | Val Loss: 0.00035458 | Grad Norm: 7.5219e-03 | LR: 0.000155\n",
      "Epoch 29600 | Train Loss: 0.00033763 | Val Loss: 0.00035965 | Grad Norm: 8.1105e-03 | LR: 0.000155\n",
      "Epoch 29700 | Train Loss: 0.00036908 | Val Loss: 0.00035509 | Grad Norm: 7.6044e-03 | LR: 0.000155\n",
      "Epoch 29800 | Train Loss: 0.00033000 | Val Loss: 0.00035594 | Grad Norm: 7.4590e-03 | LR: 0.000155\n",
      "Epoch 29900 | Train Loss: 0.00034727 | Val Loss: 0.00035529 | Grad Norm: 5.1739e-03 | LR: 0.000155\n",
      "Epoch 29999 | Train Loss: 0.00037822 | Val Loss: 0.00035680 | Grad Norm: 5.5790e-03 | LR: 0.000155\n"
     ]
    }
   ],
   "source": [
    "# Training loop\n",
    "for epoch in range(epochs):\n",
    "    # Sample random training batch\n",
    "    batch_idx = np.random.choice(train_data.shape[0], batch_size, replace=False)\n",
    "    batch = train_data[batch_idx]\n",
    "\n",
    "    # Compute training loss and gradients\n",
    "    loss_val, grads = loss_grad_fn(params, batch)\n",
    "\n",
    "    # Compute gradient norm\n",
    "    flat_grads, _ = jax.flatten_util.ravel_pytree(grads)\n",
    "    grad_norm = jnp.linalg.norm(flat_grads)\n",
    "\n",
    "    # Update step\n",
    "    updates, opt_state = optimizer.update(grads, opt_state, params)\n",
    "    params = optax.apply_updates(params, updates)\n",
    "\n",
    "    # Track metrics\n",
    "    loss_history.append(loss_val)\n",
    "    grad_norm_history.append(grad_norm)\n",
    "    lr_history.append(schedule(epoch))\n",
    "\n",
    "    # --- Validation ---\n",
    "    if epoch % 100 == 0 or epoch == epochs - 1:\n",
    "        val_loss = swap_test_loss(params, val_data)\n",
    "        val_loss_history.append(val_loss)\n",
    "\n",
    "        # Early stopping check\n",
    "        if val_loss < best_val_loss:\n",
    "            best_val_loss = val_loss\n",
    "            epochs_without_improvement = 0\n",
    "        else:\n",
    "            epochs_without_improvement += 1\n",
    "\n",
    "        # Logging\n",
    "        print(f\"Epoch {epoch:5d} | Train Loss: {loss_val:.8f} | Val Loss: {val_loss:.8f} | Grad Norm: {grad_norm:.4e} | LR: {lr_history[-1]:.6f}\")\n",
    "\n",
    "        # Stop if no improvement\n",
    "        if epochs_without_improvement >= patience:\n",
    "            print(f\"\\n⏹️ Early stopping at epoch {epoch} (val loss stagnated for {patience} steps)\")\n",
    "            break"
   ]
  },
  {
   "cell_type": "markdown",
   "id": "c655f1c4-e14b-49c8-afb8-9cfd7e0c2035",
   "metadata": {},
   "source": [
    "### Full AutoEncoder Circuit (With Reconstruction)"
   ]
  },
  {
   "cell_type": "code",
   "execution_count": 20,
   "id": "017f4be0-fc21-46ec-9f6d-dbf6937801fb",
   "metadata": {},
   "outputs": [],
   "source": [
    "@qml.qnode(dev, interface=\"jax\")\n",
    "def recon_points(params, x):\n",
    "    # Prepare reference state\n",
    "    qml.RX(x[0], wires=latent_wire)\n",
    "    qml.RX(x[1], wires=latent_wire_ii)\n",
    "    qml.RX(x[2], wires=trash_wire)\n",
    "           \n",
    "    # Encode data\n",
    "    expressive_block_circuit5(\n",
    "        x=x,\n",
    "        weights=params,\n",
    "        wires=[latent_wire, latent_wire_ii, trash_wire],\n",
    "        reupload=True,\n",
    "        alternate_embedding=True\n",
    "    )\n",
    "\n",
    "    # Reset trash qubit using SWAP from reference\n",
    "    qml.SWAP(wires=[trash_wire, reference_wire])   \n",
    "\n",
    "    # Decode data\n",
    "    adjoint_expressive_block_circuit5(\n",
    "        x=x,\n",
    "        weights=params,\n",
    "        wires=[latent_wire, latent_wire_ii, trash_wire],\n",
    "        reupload=True,\n",
    "        alternate_embedding=True\n",
    "    )\n",
    "\n",
    "    z0 = qml.expval(qml.PauliZ(latent_wire))\n",
    "    z1 = qml.expval(qml.PauliZ(latent_wire_ii))\n",
    "    z2 = qml.expval(qml.PauliZ(trash_wire))\n",
    "    return z0 ,z1, z2"
   ]
  },
  {
   "cell_type": "markdown",
   "id": "20367339-3818-482f-b23d-14f814e76661",
   "metadata": {},
   "source": [
    "## Testing the Model"
   ]
  },
  {
   "cell_type": "markdown",
   "id": "430530db-4132-4ed3-a0e4-c22028043e6a",
   "metadata": {},
   "source": [
    "### Test Data"
   ]
  },
  {
   "cell_type": "code",
   "execution_count": 21,
   "id": "6e605763-e359-4fb4-9ecb-3c2c1599d387",
   "metadata": {},
   "outputs": [],
   "source": [
    "test_data = generate_sphere(n_samples=100, seed=1)"
   ]
  },
  {
   "cell_type": "markdown",
   "id": "3728adcb-2947-4e49-9794-f7c0ef402f00",
   "metadata": {},
   "source": [
    "### Output Qubits & Latent Qubit Measurement"
   ]
  },
  {
   "cell_type": "code",
   "execution_count": 22,
   "id": "ec828076-9f62-4246-8bd4-27f00d852e37",
   "metadata": {},
   "outputs": [],
   "source": [
    "# Output Z (Z=cosx)\n",
    "z_expectations_out = jax.vmap(lambda x: recon_points(params, x))(test_data)\n",
    "# Stack the outputs to shape (N, 3)\n",
    "z_expectations_out_stacked = jnp.stack(z_expectations_out, axis=-1)  # from (3, N) → (N, 3)"
   ]
  },
  {
   "cell_type": "code",
   "execution_count": 23,
   "id": "e92c2846-1f90-4593-8767-92a3a0fb66e8",
   "metadata": {},
   "outputs": [],
   "source": [
    "# Reconstructed points [arccos(z)=x_recon]\n",
    "recon = jnp.arccos(z_expectations_out_stacked) "
   ]
  },
  {
   "cell_type": "markdown",
   "id": "01a2af05-2f03-4e86-8f36-7822b1ce495b",
   "metadata": {},
   "source": [
    "### Graphs"
   ]
  },
  {
   "cell_type": "markdown",
   "id": "734a9bd4-d9af-482e-a5dd-15e14cb27656",
   "metadata": {},
   "source": [
    "#### Reconstruction Plot"
   ]
  },
  {
   "cell_type": "code",
   "execution_count": 24,
   "id": "f5dbdbb5-7f8b-4b41-9296-f7fd7d241ff2",
   "metadata": {},
   "outputs": [],
   "source": [
    "import plotly.graph_objects as go"
   ]
  },
  {
   "cell_type": "code",
   "execution_count": 25,
   "id": "9d6e81d1-e129-4736-8735-f4b17e8a8dd3",
   "metadata": {},
   "outputs": [
    {
     "data": {
      "application/vnd.plotly.v1+json": {
       "config": {
        "plotlyServerURL": "https://plot.ly"
       },
       "data": [
        {
         "marker": {
          "color": "blue",
          "opacity": 0.5,
          "size": 3
         },
         "mode": "markers",
         "name": "Original",
         "type": "scatter3d",
         "x": {
          "bdata": "5zcfP3vgIEBapv4/GRIfQGAKoz+k6jo/jG8CQOL3Zj9X9Lk/9J8aQNaHyz/4Sog/v0eTP3AW4z9BgKI/5vNtPzXRDUBfwUI/tuXrPxQ1vz/OWck/nTm3P6vgLj8YtCFAy1kiQFOXtT/Nbnc/Fb23P6tAA0Aa4x5AvOYlP+C9E0BLwao/9+jaP3lKdD/zBxRA9GEhQDbWgz908Cw/r64fQG/6nT+E/QpATEljP0KOwz/4xwZA9i9AP7wsKT/nHcs/jMUKQN2v7z+o57U/xAzmP8nx8j+91uY/M4TnP4TZFUB9OgNATsIMQOgYC0Dc6Vk/GES2P3068T+eHHs/7OGyP6tGBUD/hrE/aDPkP8Bloj8n3Os/vPfjPxeYBEDG7R0/R/cUQIE5Nj8JuD8/3cUjQFvguT+4bhxAN83cP+cEEEDpu40/dJ3MP5wm1T+L9to/1ifZPwvfGkCXtcw/UFYBQDkyiD/iH5Y/YJekP+Gt/j+Nb04/dRkbQJDWxT8GJzI/CTEVQLbMZj+Bo4o/b5m4Pw==",
          "dtype": "f4"
         },
         "y": {
          "bdata": "LAbAPzQ8oj8OswZAR+uhP036EkAtqQBAgeUwPyz6/z8hMsQ/MfzbP497Mj8vPLk/IaQVQFnBPj9uDRxAoMDhP+PLEkAyqwhAmWEeQFcXJEB2/BU/raMSQDmq0z97Lro/cq+qP75WHj/xkLQ/WU4XQLphFUC+vbI/tRi9P4OcDkApU6s/OjU/P2Y6hT/ztpI/efrnP8x9vD+W/uY/Ae/5P7sWlD9qlkU/iEqPP/vdD0DI4zk/qMrCP6UUwT9pSzo/vr4XQGX0bD98EZ4//ukdP4MIG0AgsmM/BPILQCpGAEAISnQ/DMdSP1XPej81fdk/9UAiQFjayj/Vm00/wk0qP/txNj9Gfh5AZaEhQO24mj+oBVE/uM/CPzH4EEDXw9Y//0l7P/OKAUBawoY/KK7cP1b1qz/lwoo/F2WjP4fFeT/mOVY/9xUkQLFAQz+n+ghAylWsP9xA9j8Z9cE/r+UUQGvnBEBeqh1AgkZVPzkzHEA03QlAzA7NP6MK8j9YxQJAqroKQPJDVD84rwFAf7o/Pw==",
          "dtype": "f4"
         },
         "z": {
          "bdata": "nnPwP7t0tz9JjBNAduPqP/8+DEC3j6A/xD3UP7ygdj97CSRAOVOHP+zRij/hmDc/PQ+LPx82BkACufs/KgFUPwVhqT9c0bQ/Q0zzP53HvT/rNd8/tgIQQASFAUD4gKY/9Nm7P2oxpz/aTko//C56P2W3kT/vepk/wjOZP3Ky3D9E6CBAH7AHQM7LCUCjtwVAC+ThP97+GUB1m/k/NyfJPz2XOT/dGsY/5Bd/P3oQVj9Tnco/mgUJQGWVlD8K7wZAg5/PP7tvXj/9CyBAfOGvP1SklD9f8hBA+dhRPzhuAkBGSnI/MoqtP6VthD9JNRBAyOusP6lKIUD+IOk/H6H6P4aSzj9lKJg/ClOuP3X4HEDQI3k/4gUjQBiYBUDaKqU/F0rtP9yXqj9guao/FgnKP5qvGj+Pasc/ROUgQBokkj+ITQRAd2q6P5hGfT8NXxhAS70aP53Clj8CaCRA6CuMP2s1EUDoHeQ/G7QLQFxs6j+O6aU/dOkFQBevHz8wcrs/t0GoP2Axwz81d1M/EAaCPw==",
          "dtype": "f4"
         }
        },
        {
         "marker": {
          "color": "crimson",
          "opacity": 0.5,
          "size": 3,
          "symbol": "x"
         },
         "mode": "markers",
         "name": "Reconstruction",
         "type": "scatter3d",
         "x": {
          "bdata": "0RM5oYSt4z+Q66dHyAEEQOQsCDx4nv8/HVzUvrbEA0CPCpYIRYz0P7XkocUeK+c/S/20EoRdAEA6MA37m+brP+lqcTrBRvc/+vUyJOJxA0C9ku5qp5z5P0OufjdywfA/SLrJymJR8j+4j3X75lb8P6zitDWLdfQ/lhocOsLl7D/Te0Gr4boBQHq9vN74Jug/QvoEdJhL/T951St1MtP3P8krogP6W/k/KxJrjkzx9j8226DzMWblP5RcjRbgMARAIg2rr/MzBED91AcVnbL2P4TZq2iAWu4/r+X8bYfj9j9qSz+1rWIAQJoNzsew2wNAjN5BlVIz5T+TXkycLncCQElo/X+NVfU/2F5aTChW+z+s06kComPuPwApB47jaQJABq4KXII7BECWssXTMz/wP8MFBmPya+U/AmHMjgwCBEB12+PSPGTzP/nMfci7YgFA0ye9+KQU7D/DAnx67VD4PxRKCoAS5QBAU+olNBVJ5z8azsphYonlPx0LqqoRd/k/8xSbAyJKAUCJyjdyDfH9P7UT/pCey/Y/vVNnVJ0S/T/uS3M2e0H+PwwgSmvn0Pw/jkZX/VnE/D/JJf1HPb4CQItXVqZuUwBADkCWwz+VAUAL7hIaWE8BQPhC25b5yOo/FLtSCMnA9j+McmD2tlD+PwLvdz6Usu8/gCjctAic9j9p57m9nrYAQJxA/CU5LPY/bWUKLepl/D/22wBzFVf0P2NWBcpTmP0/7ewyPRGv/D/77SSornEAQJNMaVgwTuQ/o+4Va9V8AkAWlplzcbbmPzqGc5qtX+g/0jO+wDF7BECk/RKUi3f3P2jbBQ7bZANA5xOb+8Sw+z+/Oqhfie8BQOOmyqLY8PE/gLQlgBV1+T9I06DwXNX6PwMSait+Wvs/KohvapFR+z+2ZJYFcnQDQKJmBbuVtvk/6fmOYYMkAEB8lBHxOEbxPzH3Sor2+/I/LQwbHTHg9D9y5ykOJaD/P2P9pR4sY+k/kIgPW9RyA0C+wwIYjcT4P/ryii+0UuY/nzYmsoezAkDdMZZ6OBXtP1Ec/en+6vA/7hLNYYLj9j8=",
          "dtype": "f8"
         },
         "y": {
          "bdata": "7JM6IA8C+D+pf5nGCzb0P7jf5mbP0ABAZl1C4MZB9D+SncGtTWICQCpHYszwEQBAH1Huupse5j9CNtkYTPD/P057cYAhefg/EGw4QjDA+z+RhYtJZ7nmPw8y4rutVfc/n7TqVuG2AkDTDcSI3u3nP6Cq3qgXiwNA+HiUwMg3/D9kQHinNT8CQIIPFUVKEAFAkxgBAnO7A0A+tT9Za4kEQLUlgey41uI/v3Yw5MpQAkC3nTz6NV76P+TyrfXwOvc/sr8O1cs59T9YsjqefTHkP0cgwPl9uvY/87XmT5HrAkBwyiVR6poCQKjGrw4rX/Y/mySi5rWn9z+rPhk4SrkBQJxA0gE4bvU/kZTqCKf65z9A3UlGErXwP/OrREdXhvI/vTUsdKzA/D8JYCr/CXb3P5H06vQ1xvw/laJdCRUL/z/tlg+mk9byP5rWkCiOqug/gv/6sXYK8j8khXCV0fQBQGgFTUWxNOc/ObCv9vlD+D9psiG5vCX4P2HMdHM0Xec/d+PxpvnVAkD+wzFiKWftP8qWHXIXzPM/W3CIY1zY4z+yN58q0FEDQALHSVPffew/46uVfr19AUDy8kmQkQMAQHXCFqjkR+4/CTttLGtD6j/Lk4/2ISrvP7SwnhYQCPs/K5YoavVRBEDYVf1TSTb5P1EyyHftx+k/XRskJspU5T9h2nLfkMnmP+nh8RKM2ANA0w9Nfp4mBEBwG1yOQWLzPwwEvAplBOo/2y+SWJk2+D99g2Gr/xsCQHc+chlZ4vo/viVVq5mg7z9bDMBP8y4AQJJGkiAK3PA/DHMO9NNZ+z+jmUktom71P6b5+ZOnXfE/0zmq66ZZ9D/ueuyBSxzvP5tIfqj62uo/cz767i+DBEBJKyM8caboP69ZT1DYDwFABMFFzZVL9T+W36kgNfD+P+RZIld5KPg/nMVxz56PAkDMoquV8pQAQM4pKXzpvwNAR51izC7G6j/4m8+k5XADQEysrnZsNQFAQ/K0VY2w+T8/chnTYAX+P3Zs5GnjVQBAxL9D1xBMAUCtyT0ZUJfqPxWOmNv/MQBAAPwbrOGo6D8=",
          "dtype": "f8"
         },
         "z": {
          "bdata": "kWaSjL0E/j8ZrcQGKen2P0CEhHkHbwJAf4S7sK5M/T81wJp2mYYBQP5lJNNbG/Q/uJWLYcuG+j9GTyqB4ezuPxC/Gk/RfgRAiaKWNK778D+NsOJqk2jxPyS3qP8lDOc/rOxXLyJk8T8e5Q+mx8IAQH8FRqeZdP8/P0OEp6eM6j8PhvamHzH1P4Rttagln/Y/r/O90Hhh/j98R8TlHrn3P/PbD1zr3/s/rge4hE7/AUBrPp6p3ykAQED4tXec0/Q/Ip7CkKZy9z9iYOeTTPH0P8523iT+YOk/pbkIx3dR7z/p57DcpDnyP7CfY1VzNfM/XIzN0Cgw8z+AqIPJuo/7PyNkT3+IGARAN4pt0v7xAEBPD8J1BTgBQEw2ZrtFtABAqU5DHOYq/D/N13yqDT4DQMiUw7uEJP8/NvnzBRUj+T9DQf2I7lnnPwdZ7JifxPg/Ky1iBswC8D91aCL69dTqP38iBzw1VPk/7Q6HfmIcAUCac34/IJryP6db8RDu2ABAwnk5wLDx+T/bf5k5a9nrP8ux82ZK/QNAnHz8oHcB9j9vIkW3NpXyP8J8hdRZGwJAJv2vCFtG6j8GxitOY0kAQPJLsptHWO4/wOSHoje49T+bW4rhQpfwP/Z6SCJIBAJAj/11FsSf9T+aTrcyCCcEQH81SVdkHv0/wh87As1C/z+eAuKpOtL5Px5ZupBRCPM/ZvOc3DDI9T9fO6NO45kDQH7YEmlQMu8/Lvtch6xdBEBxm6Htn64AQMNM54VKr/Q/Z2GE0Eej/T+6Pn8JOVr1P20V3iOFYfU/r3gBh1I3+T9z8jQpnlzjP8dmukff6fg/ikCXO/wZBED6feVAHE/yPwGgZ702hABA/e+yKRdM9z9UEnrgu77vP7+2YfIuCgNA8CBdLaBj4z+h7f1qO+3yP4iMlFttigRAZJSN7cKH8T8xw1AMaCQCQHyXpO0XgPw/2sIV8zFuAUBv+HYnPkb9P3WhHpcXx/Q/fx8Vr8m5AEBU5pIBaw/kP+gQkToxcPc/oZHClBQS9T9DP4Ghg2n4P4+Wz7uvfOo/+Da3jrRU8D8=",
          "dtype": "f8"
         }
        }
       ],
       "layout": {
        "legend": {
         "x": 0.02,
         "y": 0.98
        },
        "margin": {
         "b": 0,
         "l": 0,
         "r": 0,
         "t": 40
        },
        "scene": {
         "xaxis": {
          "title": {
           "text": "x"
          }
         },
         "yaxis": {
          "title": {
           "text": "y"
          }
         },
         "zaxis": {
          "title": {
           "text": "z"
          }
         }
        },
        "template": {
         "data": {
          "bar": [
           {
            "error_x": {
             "color": "#2a3f5f"
            },
            "error_y": {
             "color": "#2a3f5f"
            },
            "marker": {
             "line": {
              "color": "#E5ECF6",
              "width": 0.5
             },
             "pattern": {
              "fillmode": "overlay",
              "size": 10,
              "solidity": 0.2
             }
            },
            "type": "bar"
           }
          ],
          "barpolar": [
           {
            "marker": {
             "line": {
              "color": "#E5ECF6",
              "width": 0.5
             },
             "pattern": {
              "fillmode": "overlay",
              "size": 10,
              "solidity": 0.2
             }
            },
            "type": "barpolar"
           }
          ],
          "carpet": [
           {
            "aaxis": {
             "endlinecolor": "#2a3f5f",
             "gridcolor": "white",
             "linecolor": "white",
             "minorgridcolor": "white",
             "startlinecolor": "#2a3f5f"
            },
            "baxis": {
             "endlinecolor": "#2a3f5f",
             "gridcolor": "white",
             "linecolor": "white",
             "minorgridcolor": "white",
             "startlinecolor": "#2a3f5f"
            },
            "type": "carpet"
           }
          ],
          "choropleth": [
           {
            "colorbar": {
             "outlinewidth": 0,
             "ticks": ""
            },
            "type": "choropleth"
           }
          ],
          "contour": [
           {
            "colorbar": {
             "outlinewidth": 0,
             "ticks": ""
            },
            "colorscale": [
             [
              0,
              "#0d0887"
             ],
             [
              0.1111111111111111,
              "#46039f"
             ],
             [
              0.2222222222222222,
              "#7201a8"
             ],
             [
              0.3333333333333333,
              "#9c179e"
             ],
             [
              0.4444444444444444,
              "#bd3786"
             ],
             [
              0.5555555555555556,
              "#d8576b"
             ],
             [
              0.6666666666666666,
              "#ed7953"
             ],
             [
              0.7777777777777778,
              "#fb9f3a"
             ],
             [
              0.8888888888888888,
              "#fdca26"
             ],
             [
              1,
              "#f0f921"
             ]
            ],
            "type": "contour"
           }
          ],
          "contourcarpet": [
           {
            "colorbar": {
             "outlinewidth": 0,
             "ticks": ""
            },
            "type": "contourcarpet"
           }
          ],
          "heatmap": [
           {
            "colorbar": {
             "outlinewidth": 0,
             "ticks": ""
            },
            "colorscale": [
             [
              0,
              "#0d0887"
             ],
             [
              0.1111111111111111,
              "#46039f"
             ],
             [
              0.2222222222222222,
              "#7201a8"
             ],
             [
              0.3333333333333333,
              "#9c179e"
             ],
             [
              0.4444444444444444,
              "#bd3786"
             ],
             [
              0.5555555555555556,
              "#d8576b"
             ],
             [
              0.6666666666666666,
              "#ed7953"
             ],
             [
              0.7777777777777778,
              "#fb9f3a"
             ],
             [
              0.8888888888888888,
              "#fdca26"
             ],
             [
              1,
              "#f0f921"
             ]
            ],
            "type": "heatmap"
           }
          ],
          "histogram": [
           {
            "marker": {
             "pattern": {
              "fillmode": "overlay",
              "size": 10,
              "solidity": 0.2
             }
            },
            "type": "histogram"
           }
          ],
          "histogram2d": [
           {
            "colorbar": {
             "outlinewidth": 0,
             "ticks": ""
            },
            "colorscale": [
             [
              0,
              "#0d0887"
             ],
             [
              0.1111111111111111,
              "#46039f"
             ],
             [
              0.2222222222222222,
              "#7201a8"
             ],
             [
              0.3333333333333333,
              "#9c179e"
             ],
             [
              0.4444444444444444,
              "#bd3786"
             ],
             [
              0.5555555555555556,
              "#d8576b"
             ],
             [
              0.6666666666666666,
              "#ed7953"
             ],
             [
              0.7777777777777778,
              "#fb9f3a"
             ],
             [
              0.8888888888888888,
              "#fdca26"
             ],
             [
              1,
              "#f0f921"
             ]
            ],
            "type": "histogram2d"
           }
          ],
          "histogram2dcontour": [
           {
            "colorbar": {
             "outlinewidth": 0,
             "ticks": ""
            },
            "colorscale": [
             [
              0,
              "#0d0887"
             ],
             [
              0.1111111111111111,
              "#46039f"
             ],
             [
              0.2222222222222222,
              "#7201a8"
             ],
             [
              0.3333333333333333,
              "#9c179e"
             ],
             [
              0.4444444444444444,
              "#bd3786"
             ],
             [
              0.5555555555555556,
              "#d8576b"
             ],
             [
              0.6666666666666666,
              "#ed7953"
             ],
             [
              0.7777777777777778,
              "#fb9f3a"
             ],
             [
              0.8888888888888888,
              "#fdca26"
             ],
             [
              1,
              "#f0f921"
             ]
            ],
            "type": "histogram2dcontour"
           }
          ],
          "mesh3d": [
           {
            "colorbar": {
             "outlinewidth": 0,
             "ticks": ""
            },
            "type": "mesh3d"
           }
          ],
          "parcoords": [
           {
            "line": {
             "colorbar": {
              "outlinewidth": 0,
              "ticks": ""
             }
            },
            "type": "parcoords"
           }
          ],
          "pie": [
           {
            "automargin": true,
            "type": "pie"
           }
          ],
          "scatter": [
           {
            "fillpattern": {
             "fillmode": "overlay",
             "size": 10,
             "solidity": 0.2
            },
            "type": "scatter"
           }
          ],
          "scatter3d": [
           {
            "line": {
             "colorbar": {
              "outlinewidth": 0,
              "ticks": ""
             }
            },
            "marker": {
             "colorbar": {
              "outlinewidth": 0,
              "ticks": ""
             }
            },
            "type": "scatter3d"
           }
          ],
          "scattercarpet": [
           {
            "marker": {
             "colorbar": {
              "outlinewidth": 0,
              "ticks": ""
             }
            },
            "type": "scattercarpet"
           }
          ],
          "scattergeo": [
           {
            "marker": {
             "colorbar": {
              "outlinewidth": 0,
              "ticks": ""
             }
            },
            "type": "scattergeo"
           }
          ],
          "scattergl": [
           {
            "marker": {
             "colorbar": {
              "outlinewidth": 0,
              "ticks": ""
             }
            },
            "type": "scattergl"
           }
          ],
          "scattermap": [
           {
            "marker": {
             "colorbar": {
              "outlinewidth": 0,
              "ticks": ""
             }
            },
            "type": "scattermap"
           }
          ],
          "scattermapbox": [
           {
            "marker": {
             "colorbar": {
              "outlinewidth": 0,
              "ticks": ""
             }
            },
            "type": "scattermapbox"
           }
          ],
          "scatterpolar": [
           {
            "marker": {
             "colorbar": {
              "outlinewidth": 0,
              "ticks": ""
             }
            },
            "type": "scatterpolar"
           }
          ],
          "scatterpolargl": [
           {
            "marker": {
             "colorbar": {
              "outlinewidth": 0,
              "ticks": ""
             }
            },
            "type": "scatterpolargl"
           }
          ],
          "scatterternary": [
           {
            "marker": {
             "colorbar": {
              "outlinewidth": 0,
              "ticks": ""
             }
            },
            "type": "scatterternary"
           }
          ],
          "surface": [
           {
            "colorbar": {
             "outlinewidth": 0,
             "ticks": ""
            },
            "colorscale": [
             [
              0,
              "#0d0887"
             ],
             [
              0.1111111111111111,
              "#46039f"
             ],
             [
              0.2222222222222222,
              "#7201a8"
             ],
             [
              0.3333333333333333,
              "#9c179e"
             ],
             [
              0.4444444444444444,
              "#bd3786"
             ],
             [
              0.5555555555555556,
              "#d8576b"
             ],
             [
              0.6666666666666666,
              "#ed7953"
             ],
             [
              0.7777777777777778,
              "#fb9f3a"
             ],
             [
              0.8888888888888888,
              "#fdca26"
             ],
             [
              1,
              "#f0f921"
             ]
            ],
            "type": "surface"
           }
          ],
          "table": [
           {
            "cells": {
             "fill": {
              "color": "#EBF0F8"
             },
             "line": {
              "color": "white"
             }
            },
            "header": {
             "fill": {
              "color": "#C8D4E3"
             },
             "line": {
              "color": "white"
             }
            },
            "type": "table"
           }
          ]
         },
         "layout": {
          "annotationdefaults": {
           "arrowcolor": "#2a3f5f",
           "arrowhead": 0,
           "arrowwidth": 1
          },
          "autotypenumbers": "strict",
          "coloraxis": {
           "colorbar": {
            "outlinewidth": 0,
            "ticks": ""
           }
          },
          "colorscale": {
           "diverging": [
            [
             0,
             "#8e0152"
            ],
            [
             0.1,
             "#c51b7d"
            ],
            [
             0.2,
             "#de77ae"
            ],
            [
             0.3,
             "#f1b6da"
            ],
            [
             0.4,
             "#fde0ef"
            ],
            [
             0.5,
             "#f7f7f7"
            ],
            [
             0.6,
             "#e6f5d0"
            ],
            [
             0.7,
             "#b8e186"
            ],
            [
             0.8,
             "#7fbc41"
            ],
            [
             0.9,
             "#4d9221"
            ],
            [
             1,
             "#276419"
            ]
           ],
           "sequential": [
            [
             0,
             "#0d0887"
            ],
            [
             0.1111111111111111,
             "#46039f"
            ],
            [
             0.2222222222222222,
             "#7201a8"
            ],
            [
             0.3333333333333333,
             "#9c179e"
            ],
            [
             0.4444444444444444,
             "#bd3786"
            ],
            [
             0.5555555555555556,
             "#d8576b"
            ],
            [
             0.6666666666666666,
             "#ed7953"
            ],
            [
             0.7777777777777778,
             "#fb9f3a"
            ],
            [
             0.8888888888888888,
             "#fdca26"
            ],
            [
             1,
             "#f0f921"
            ]
           ],
           "sequentialminus": [
            [
             0,
             "#0d0887"
            ],
            [
             0.1111111111111111,
             "#46039f"
            ],
            [
             0.2222222222222222,
             "#7201a8"
            ],
            [
             0.3333333333333333,
             "#9c179e"
            ],
            [
             0.4444444444444444,
             "#bd3786"
            ],
            [
             0.5555555555555556,
             "#d8576b"
            ],
            [
             0.6666666666666666,
             "#ed7953"
            ],
            [
             0.7777777777777778,
             "#fb9f3a"
            ],
            [
             0.8888888888888888,
             "#fdca26"
            ],
            [
             1,
             "#f0f921"
            ]
           ]
          },
          "colorway": [
           "#636efa",
           "#EF553B",
           "#00cc96",
           "#ab63fa",
           "#FFA15A",
           "#19d3f3",
           "#FF6692",
           "#B6E880",
           "#FF97FF",
           "#FECB52"
          ],
          "font": {
           "color": "#2a3f5f"
          },
          "geo": {
           "bgcolor": "white",
           "lakecolor": "white",
           "landcolor": "#E5ECF6",
           "showlakes": true,
           "showland": true,
           "subunitcolor": "white"
          },
          "hoverlabel": {
           "align": "left"
          },
          "hovermode": "closest",
          "mapbox": {
           "style": "light"
          },
          "paper_bgcolor": "white",
          "plot_bgcolor": "#E5ECF6",
          "polar": {
           "angularaxis": {
            "gridcolor": "white",
            "linecolor": "white",
            "ticks": ""
           },
           "bgcolor": "#E5ECF6",
           "radialaxis": {
            "gridcolor": "white",
            "linecolor": "white",
            "ticks": ""
           }
          },
          "scene": {
           "xaxis": {
            "backgroundcolor": "#E5ECF6",
            "gridcolor": "white",
            "gridwidth": 2,
            "linecolor": "white",
            "showbackground": true,
            "ticks": "",
            "zerolinecolor": "white"
           },
           "yaxis": {
            "backgroundcolor": "#E5ECF6",
            "gridcolor": "white",
            "gridwidth": 2,
            "linecolor": "white",
            "showbackground": true,
            "ticks": "",
            "zerolinecolor": "white"
           },
           "zaxis": {
            "backgroundcolor": "#E5ECF6",
            "gridcolor": "white",
            "gridwidth": 2,
            "linecolor": "white",
            "showbackground": true,
            "ticks": "",
            "zerolinecolor": "white"
           }
          },
          "shapedefaults": {
           "line": {
            "color": "#2a3f5f"
           }
          },
          "ternary": {
           "aaxis": {
            "gridcolor": "white",
            "linecolor": "white",
            "ticks": ""
           },
           "baxis": {
            "gridcolor": "white",
            "linecolor": "white",
            "ticks": ""
           },
           "bgcolor": "#E5ECF6",
           "caxis": {
            "gridcolor": "white",
            "linecolor": "white",
            "ticks": ""
           }
          },
          "title": {
           "x": 0.05
          },
          "xaxis": {
           "automargin": true,
           "gridcolor": "white",
           "linecolor": "white",
           "ticks": "",
           "title": {
            "standoff": 15
           },
           "zerolinecolor": "white",
           "zerolinewidth": 2
          },
          "yaxis": {
           "automargin": true,
           "gridcolor": "white",
           "linecolor": "white",
           "ticks": "",
           "title": {
            "standoff": 15
           },
           "zerolinecolor": "white",
           "zerolinewidth": 2
          }
         }
        },
        "title": {
         "text": "Original vs Reconstruction (Quarter Sphere)"
        }
       }
      },
      "image/png": "[encoded data removed]"
     },
     "metadata": {},
     "output_type": "display_data"
    }
   ],
   "source": [
    "# Create traces\n",
    "trace_original = go.Scatter3d(\n",
    "    x=test_data[:, 0],\n",
    "    y=test_data[:, 1],\n",
    "    z=test_data[:, 2],\n",
    "    mode='markers',\n",
    "    name='Original',\n",
    "    marker=dict(size=3, color='blue', opacity=0.5)\n",
    ")\n",
    "\n",
    "trace_recon = go.Scatter3d(\n",
    "    x=recon[:, 0],\n",
    "    y=recon[:, 1],\n",
    "    z=recon[:, 2],\n",
    "    mode='markers',\n",
    "    name='Reconstruction',\n",
    "    marker=dict(size=3, color='crimson', symbol='x', opacity=0.5)\n",
    ")\n",
    "\n",
    "# Combine and plot\n",
    "fig = go.Figure(data=[trace_original, trace_recon])\n",
    "fig.update_layout(\n",
    "    title=\"Original vs Reconstruction (Quarter Sphere)\",\n",
    "    scene=dict(\n",
    "        xaxis_title='x',\n",
    "        yaxis_title='y',\n",
    "        zaxis_title='z'\n",
    "    ),\n",
    "    legend=dict(x=0.02, y=0.98),\n",
    "    margin=dict(l=0, r=0, b=0, t=40)\n",
    ")\n",
    "\n",
    "fig.show()\n"
   ]
  },
  {
   "cell_type": "markdown",
   "id": "5d032c7f-951b-4f2b-b494-6e826fa2f9f0",
   "metadata": {},
   "source": [
    "### Testing with Gaussian Noise (mild anomaly) / Roustness test"
   ]
  },
  {
   "cell_type": "code",
   "execution_count": null,
   "id": "bd727878-92f4-4478-8dbc-2a9193fe7a7a",
   "metadata": {},
   "outputs": [],
   "source": [
    "# Gaussian Noise (mild anomaly) / Roustness test\n",
    "def generate_noisy_circle(n_samples=300, seed=42, noise_std=0.1):\n",
    "    data, angles = generate_circle_dataset(n_samples, seed)\n",
    "    key = jax.random.PRNGKey(seed)\n",
    "    noise = noise_std * jax.random.normal(key, shape=data.shape)\n",
    "    noisy_data = data + noise\n",
    "    return noisy_data, angles"
   ]
  },
  {
   "cell_type": "code",
   "execution_count": null,
   "id": "998db266-5926-4828-be62-8e1542892051",
   "metadata": {},
   "outputs": [],
   "source": [
    "# Data\n",
    "noisy_data, true_angles = generate_noisy_circle(n_samples=500, seed=1)\n",
    "# Latent Z\n",
    "z_expectations_n = jax.vmap(lambda x: latent_qubit_z(params, x))(noisy_data)\n",
    "# Output Z (Z=cosx)\n",
    "z_expectations_out_n = jax.vmap(lambda x: recon_points(params, x))(noisy_data)\n",
    "# Stack the outputs to shape (N, 2)\n",
    "z_expectations_out_stacked_n = jnp.stack(z_expectations_out_n, axis=-1)  # from (2, N) → (N, 2)\n",
    "# Reconstructed points [arccos(z)=x_recon]\n",
    "recon_n = jnp.arccos(z_expectations_out_stacked_n) "
   ]
  },
  {
   "cell_type": "code",
   "execution_count": null,
   "id": "f82d11a7-2b3f-4cb0-a16e-2280f8003336",
   "metadata": {},
   "outputs": [],
   "source": [
    "# Sort by angle for nicer plotting\n",
    "sorted_idx = jnp.argsort(true_angles)\n",
    "sorted_angles_n = true_angles[sorted_idx]\n",
    "sorted_zs_n = z_expectations_n[sorted_idx]\n",
    "\n",
    "plt.figure(figsize=(8, 4))\n",
    "plt.plot(sorted_angles_n, sorted_zs_n, label='⟨Z⟩ of latent qubit')\n",
    "plt.xlabel(\"True angle (radians)\")\n",
    "plt.ylabel(\"⟨Z⟩ expectation\")\n",
    "plt.title(\"Latent qubit ⟨Z⟩ vs. True input angle\")\n",
    "plt.grid(True)\n",
    "plt.legend()\n",
    "plt.tight_layout()\n",
    "plt.show()"
   ]
  },
  {
   "cell_type": "code",
   "execution_count": null,
   "id": "733c5a58-7e86-4db1-a812-7cbe7dba4f86",
   "metadata": {},
   "outputs": [],
   "source": [
    "plt.figure(figsize=(7, 7))\n",
    "plt.scatter(noisy_data[:, 0], noisy_data[:, 1], s=8, alpha=0.5, label='Original', edgecolor='k')\n",
    "plt.scatter(recon_n[:, 0], recon_n[:, 1], s=8, alpha=0.5, label='Reconstruction', marker='x', color='crimson')\n",
    "plt.legend(fontsize=12)\n",
    "plt.title(\"Original vs Reconstruction (S¹)\", fontsize=14)\n",
    "plt.xlabel(\"x\", fontsize=12)\n",
    "plt.ylabel(\"y\", fontsize=12)\n",
    "plt.axis('equal')\n",
    "plt.grid(True, linestyle='--', alpha=0.6)\n",
    "plt.tight_layout()\n",
    "plt.show()"
   ]
  },
  {
   "cell_type": "markdown",
   "id": "8aa59329-2a5b-4efc-a2d6-5db13644fe2c",
   "metadata": {},
   "source": [
    "### Testing with artificial gaps"
   ]
  },
  {
   "cell_type": "code",
   "execution_count": null,
   "id": "72aa2770-e6f7-46e2-891f-631501968a6b",
   "metadata": {},
   "outputs": [],
   "source": [
    "def generate_circle_with_gap(n_samples=300, seed=42, gap_range=(jnp.pi/3, jnp.pi/2)):\n",
    "    key = jax.random.PRNGKey(seed)\n",
    "    # Sample until enough valid points are outside the gap\n",
    "    valid_angles = []\n",
    "    while len(valid_angles) < n_samples:\n",
    "        angles = jax.random.uniform(key, shape=(n_samples,), minval=0, maxval=2*jnp.pi)\n",
    "        filtered = angles[(angles < gap_range[0]) | (angles > gap_range[1])]\n",
    "        valid_angles.extend(filtered.tolist())\n",
    "        key, _ = jax.random.split(key)\n",
    "\n",
    "    angles = jnp.array(valid_angles[:n_samples])\n",
    "    data = jnp.stack([jnp.cos(angles)+1, jnp.sin(angles)+1], axis=1)\n",
    "    return data, angles\n"
   ]
  },
  {
   "cell_type": "code",
   "execution_count": null,
   "id": "ae10bb93-04ce-4b34-b1dc-3a84f65f5df7",
   "metadata": {},
   "outputs": [],
   "source": [
    "# Data\n",
    "gap_data, true_angles = generate_circle_with_gap(n_samples=500, seed=1)\n",
    "# Latent Z\n",
    "z_expectations_g = jax.vmap(lambda x: latent_qubit_z(params, x))(gap_data)\n",
    "# Output Z (Z=cosx)\n",
    "z_expectations_out_g = jax.vmap(lambda x: recon_points(params, x))(gap_data)\n",
    "# Stack the outputs to shape (N, 2)\n",
    "z_expectations_out_stacked_g = jnp.stack(z_expectations_out_g, axis=-1)  # from (2, N) → (N, 2)\n",
    "# Reconstructed points [arccos(z)=x_recon]\n",
    "recon_g = jnp.arccos(z_expectations_out_stacked_g) "
   ]
  },
  {
   "cell_type": "code",
   "execution_count": null,
   "id": "10201a44-4c1d-4d00-a40c-833ef8984fb7",
   "metadata": {},
   "outputs": [],
   "source": [
    "# Sort by angle for nicer plotting\n",
    "sorted_idx = jnp.argsort(true_angles)\n",
    "sorted_angles_g = true_angles[sorted_idx]\n",
    "sorted_zs_g = z_expectations_g[sorted_idx]\n",
    "\n",
    "plt.figure(figsize=(8, 4))\n",
    "plt.plot(sorted_angles_g, sorted_zs_g, label='⟨Z⟩ of latent qubit')\n",
    "plt.axvline(x=jnp.pi / 3, color='red', linestyle='dotted', label=r'$x = \\frac{\\pi}{3}$')\n",
    "plt.axvline(x=jnp.pi / 2, color='red', linestyle='dotted', label=r'$x = \\frac{\\pi}{2}$')\n",
    "plt.xlabel(\"True angle (radians)\")\n",
    "plt.ylabel(\"⟨Z⟩ expectation\")\n",
    "plt.title(\"Latent qubit ⟨Z⟩ vs. True input angle\")\n",
    "plt.grid(True)\n",
    "plt.legend()\n",
    "plt.tight_layout()\n",
    "plt.show()"
   ]
  },
  {
   "cell_type": "code",
   "execution_count": null,
   "id": "f09c7eb8-934a-4f8d-8857-cd6cc60b11ec",
   "metadata": {},
   "outputs": [],
   "source": [
    "plt.figure(figsize=(7, 7))\n",
    "plt.scatter(gap_data[:, 0], gap_data[:, 1], s=8, alpha=0.5, label='Original', edgecolor='k')\n",
    "plt.scatter(recon_g[:, 0], recon_g[:, 1], s=8, alpha=0.5, label='Reconstruction', marker='x', color='crimson')\n",
    "plt.legend(fontsize=12)\n",
    "plt.title(\"Original vs Reconstruction (S¹)\", fontsize=14)\n",
    "plt.xlabel(\"x\", fontsize=12)\n",
    "plt.ylabel(\"y\", fontsize=12)\n",
    "plt.axis('equal')\n",
    "plt.grid(True, linestyle='--', alpha=0.6)\n",
    "plt.tight_layout()\n",
    "plt.show()"
   ]
  },
  {
   "cell_type": "markdown",
   "id": "13d2b57c-1b18-425b-aa1d-5f8f785aaa7c",
   "metadata": {},
   "source": [
    "### Testing for data corruption (injected outliers / spikes off the circle)"
   ]
  },
  {
   "cell_type": "code",
   "execution_count": null,
   "id": "36e13f87-c509-4931-8393-63673e853ff1",
   "metadata": {},
   "outputs": [],
   "source": [
    "def generate_circle_with_outliers(n_samples=300, seed=42, outlier_fraction=0.1):\n",
    "    data, angles = generate_circle_dataset(n_samples, seed)\n",
    "    n_outliers = int(n_samples * outlier_fraction)\n",
    "\n",
    "    key = jax.random.PRNGKey(seed)\n",
    "    outlier_points = jax.random.uniform(key, shape=(n_outliers, 2), minval=2, maxval=3)\n",
    "\n",
    "    # Replace random entries with outliers\n",
    "    indices = np.random.choice(n_samples, n_outliers, replace=False)\n",
    "    data = data.at[indices].set(outlier_points)\n",
    "\n",
    "    return data, angles"
   ]
  },
  {
   "cell_type": "code",
   "execution_count": null,
   "id": "24772ee7-5ad1-40bd-8f0a-ba18f122c5e5",
   "metadata": {},
   "outputs": [],
   "source": [
    "# Data\n",
    "spike_data, true_angles = generate_circle_with_outliers(n_samples=500, seed=1)\n",
    "# Latent Z\n",
    "z_expectations_s = jax.vmap(lambda x: latent_qubit_z(params, x))(spike_data)\n",
    "# Output Z (Z=cosx)\n",
    "z_expectations_out_s = jax.vmap(lambda x: recon_points(params, x))(spike_data)\n",
    "# Stack the outputs to shape (N, 2)\n",
    "z_expectations_out_stacked_s = jnp.stack(z_expectations_out_s, axis=-1)  # from (2, N) → (N, 2)\n",
    "# Reconstructed points [arccos(z)=x_recon]\n",
    "recon_s = jnp.arccos(z_expectations_out_stacked_s) "
   ]
  },
  {
   "cell_type": "code",
   "execution_count": null,
   "id": "3b962fa0-79e5-4758-bc23-247f81d20223",
   "metadata": {},
   "outputs": [],
   "source": [
    "# Sort by angle for nicer plotting\n",
    "sorted_idx = jnp.argsort(true_angles)\n",
    "sorted_angles_s = true_angles[sorted_idx]\n",
    "sorted_zs_s = z_expectations_s[sorted_idx]\n",
    "\n",
    "plt.figure(figsize=(8, 4))\n",
    "plt.plot(sorted_angles_s, sorted_zs_s, label='⟨Z⟩ of latent qubit')\n",
    "plt.xlabel(\"True angle (radians)\")\n",
    "plt.ylabel(\"⟨Z⟩ expectation\")\n",
    "plt.title(\"Latent qubit ⟨Z⟩ vs. True input angle\")\n",
    "plt.grid(True)\n",
    "plt.legend()\n",
    "plt.tight_layout()\n",
    "plt.show()"
   ]
  },
  {
   "cell_type": "code",
   "execution_count": null,
   "id": "f412a3bc-125b-46c6-b8e1-99fcd890c8a3",
   "metadata": {},
   "outputs": [],
   "source": [
    "plt.figure(figsize=(7, 7))\n",
    "plt.scatter(spike_data[:, 0], spike_data[:, 1], s=8, alpha=0.5, label='Original', edgecolor='k')\n",
    "plt.scatter(recon_s[:, 0], recon_s[:, 1], s=8, alpha=0.5, label='Reconstruction', marker='x', color='crimson')\n",
    "plt.legend(fontsize=12)\n",
    "plt.title(\"Original vs Reconstruction (S¹)\", fontsize=14)\n",
    "plt.xlabel(\"x\", fontsize=12)\n",
    "plt.ylabel(\"y\", fontsize=12)\n",
    "plt.axis('equal')\n",
    "plt.grid(True, linestyle='--', alpha=0.6)\n",
    "plt.tight_layout()\n",
    "plt.show()"
   ]
  },
  {
   "cell_type": "markdown",
   "id": "daea4f60-15cc-4003-a4c5-f364d05d1e2d",
   "metadata": {},
   "source": [
    "### Testing systematic deviations (anomalous radius)"
   ]
  },
  {
   "cell_type": "code",
   "execution_count": null,
   "id": "1cabeeb2-fca0-4e3a-8dbe-487d5cb74fc2",
   "metadata": {},
   "outputs": [],
   "source": [
    "def generate_off_circle(n_samples=300, seed=42, radius_shift=0.1):\n",
    "    key = jax.random.PRNGKey(seed)\n",
    "    angles = jax.random.uniform(key, shape=(n_samples,), minval=0, maxval=2*jnp.pi)\n",
    "    r = 1.0 + radius_shift\n",
    "    data = jnp.stack([r * jnp.cos(angles) + 1, r * jnp.sin(angles) + 1], axis=1)\n",
    "    return data, angles"
   ]
  },
  {
   "cell_type": "code",
   "execution_count": null,
   "id": "ba0f2298-5053-44bd-9dae-c6dcdf4c5d66",
   "metadata": {},
   "outputs": [],
   "source": [
    "# Data\n",
    "rad_data, true_angles = generate_off_circle(n_samples=500, seed=1)\n",
    "# Latent Z\n",
    "z_expectations_r = jax.vmap(lambda x: latent_qubit_z(params, x))(rad_data)\n",
    "# Output Z (Z=cosx)\n",
    "z_expectations_out_r = jax.vmap(lambda x: recon_points(params, x))(rad_data)\n",
    "# Stack the outputs to shape (N, 2)\n",
    "z_expectations_out_stacked_r = jnp.stack(z_expectations_out_r, axis=-1)  # from (2, N) → (N, 2)\n",
    "# Reconstructed points [arccos(z)=x_recon]\n",
    "recon_r = jnp.arccos(z_expectations_out_stacked_r) "
   ]
  },
  {
   "cell_type": "code",
   "execution_count": null,
   "id": "2991667c-c6e0-4bc1-9dd8-3ccf9639bf89",
   "metadata": {},
   "outputs": [],
   "source": [
    "# Sort by angle for nicer plotting\n",
    "sorted_idx = jnp.argsort(true_angles)\n",
    "sorted_angles_r = true_angles[sorted_idx]\n",
    "sorted_zs_r = z_expectations_r[sorted_idx]\n",
    "\n",
    "plt.figure(figsize=(8, 4))\n",
    "plt.plot(sorted_angles_r, sorted_zs_r, label='⟨Z⟩ of latent qubit')\n",
    "plt.xlabel(\"True angle (radians)\")\n",
    "plt.ylabel(\"⟨Z⟩ expectation\")\n",
    "plt.title(\"Latent qubit ⟨Z⟩ vs. True input angle\")\n",
    "plt.grid(True)\n",
    "plt.legend()\n",
    "plt.tight_layout()\n",
    "plt.show()"
   ]
  },
  {
   "cell_type": "code",
   "execution_count": null,
   "id": "9946d83f-db24-47dc-ad1c-0160152f4830",
   "metadata": {},
   "outputs": [],
   "source": [
    "plt.figure(figsize=(7, 7))\n",
    "plt.scatter(rad_data[:, 0], rad_data[:, 1], s=8, alpha=0.5, label='Original', edgecolor='k')\n",
    "plt.scatter(recon_r[:, 0], recon_r[:, 1], s=8, alpha=0.5, label='Reconstruction', marker='x', color='crimson')\n",
    "plt.legend(fontsize=12)\n",
    "plt.title(\"Original vs Reconstruction (S¹)\", fontsize=14)\n",
    "plt.xlabel(\"x\", fontsize=12)\n",
    "plt.ylabel(\"y\", fontsize=12)\n",
    "plt.axis('equal')\n",
    "plt.grid(True, linestyle='--', alpha=0.6)\n",
    "plt.tight_layout()\n",
    "plt.show()"
   ]
  },
  {
   "cell_type": "code",
   "execution_count": null,
   "id": "a50f11ca-3a76-488f-a7b5-39c55150f353",
   "metadata": {},
   "outputs": [],
   "source": []
  }
 ],
 "metadata": {
  "kernelspec": {
   "display_name": "Python 3 (ipykernel)",
   "language": "python",
   "name": "python3"
  },
  "language_info": {
   "codemirror_mode": {
    "name": "ipython",
    "version": 3
   },
   "file_extension": ".py",
   "mimetype": "text/x-python",
   "name": "python",
   "nbconvert_exporter": "python",
   "pygments_lexer": "ipython3",
   "version": "3.10.18"
  }
 },
 "nbformat": 4,
 "nbformat_minor": 5
}
